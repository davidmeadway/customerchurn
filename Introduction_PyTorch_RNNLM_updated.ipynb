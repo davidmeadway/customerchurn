{
  "cells": [
    {
      "cell_type": "markdown",
      "metadata": {
        "id": "view-in-github",
        "colab_type": "text"
      },
      "source": [
        "<a href=\"https://colab.research.google.com/github/davidmeadway/customerchurn/blob/main/Introduction_PyTorch_RNNLM_updated.ipynb\" target=\"_parent\"><img src=\"https://colab.research.google.com/assets/colab-badge.svg\" alt=\"Open In Colab\"/></a>"
      ]
    },
    {
      "cell_type": "markdown",
      "id": "dba724c5-62c8-4c9e-8401-9154dc8b0d27",
      "metadata": {
        "id": "dba724c5-62c8-4c9e-8401-9154dc8b0d27"
      },
      "source": [
        "# Tutorial - Introduction to Pytorch and Word-level RNN Language Models\n",
        "This tutorial is adapted from [_Introduction to Pytorch_](https://pytorch.org/tutorials/beginner/introyt.html) tutorial from Pytorch documentations. \n",
        "\n",
        "In this tutorial, You will learn the basics of Pytorch and how to build and train neural network with Pytorch (Word-level RNN Language models example)."
      ]
    },
    {
      "cell_type": "markdown",
      "id": "00fe6e44-731a-46d3-9943-ca33c6d0f40e",
      "metadata": {
        "id": "00fe6e44-731a-46d3-9943-ca33c6d0f40e",
        "tags": []
      },
      "source": [
        "## Part 1: Introduction to Pytorch"
      ]
    },
    {
      "cell_type": "markdown",
      "source": [
        "PyTorch is an open source machine learning framework based on the Torch library, used for applications such as computer vision and natural language processing, primarily developed by Facebook's AI Research lab."
      ],
      "metadata": {
        "id": "aeOJQT3885ze"
      },
      "id": "aeOJQT3885ze"
    },
    {
      "cell_type": "code",
      "execution_count": null,
      "id": "62fd2808-acf6-4900-9f86-dccae4e6026c",
      "metadata": {
        "colab": {
          "base_uri": "https://localhost:8080/"
        },
        "id": "62fd2808-acf6-4900-9f86-dccae4e6026c",
        "outputId": "efbe8632-dc95-4520-f2f9-9942ff83765a"
      },
      "outputs": [
        {
          "output_type": "stream",
          "name": "stdout",
          "text": [
            "Looking in indexes: https://pypi.org/simple, https://us-python.pkg.dev/colab-wheels/public/simple/\n",
            "Requirement already satisfied: torch in /usr/local/lib/python3.10/dist-packages (2.0.0+cu118)\n",
            "Requirement already satisfied: torchtext in /usr/local/lib/python3.10/dist-packages (0.15.1)\n",
            "Requirement already satisfied: numpy in /usr/local/lib/python3.10/dist-packages (1.22.4)\n",
            "Requirement already satisfied: networkx in /usr/local/lib/python3.10/dist-packages (from torch) (3.1)\n",
            "Requirement already satisfied: filelock in /usr/local/lib/python3.10/dist-packages (from torch) (3.12.0)\n",
            "Requirement already satisfied: jinja2 in /usr/local/lib/python3.10/dist-packages (from torch) (3.1.2)\n",
            "Requirement already satisfied: typing-extensions in /usr/local/lib/python3.10/dist-packages (from torch) (4.5.0)\n",
            "Requirement already satisfied: sympy in /usr/local/lib/python3.10/dist-packages (from torch) (1.11.1)\n",
            "Requirement already satisfied: triton==2.0.0 in /usr/local/lib/python3.10/dist-packages (from torch) (2.0.0)\n",
            "Requirement already satisfied: cmake in /usr/local/lib/python3.10/dist-packages (from triton==2.0.0->torch) (3.25.2)\n",
            "Requirement already satisfied: lit in /usr/local/lib/python3.10/dist-packages (from triton==2.0.0->torch) (16.0.2)\n",
            "Requirement already satisfied: torchdata==0.6.0 in /usr/local/lib/python3.10/dist-packages (from torchtext) (0.6.0)\n",
            "Requirement already satisfied: tqdm in /usr/local/lib/python3.10/dist-packages (from torchtext) (4.65.0)\n",
            "Requirement already satisfied: requests in /usr/local/lib/python3.10/dist-packages (from torchtext) (2.27.1)\n",
            "Requirement already satisfied: urllib3>=1.25 in /usr/local/lib/python3.10/dist-packages (from torchdata==0.6.0->torchtext) (1.26.15)\n",
            "Requirement already satisfied: MarkupSafe>=2.0 in /usr/local/lib/python3.10/dist-packages (from jinja2->torch) (2.1.2)\n",
            "Requirement already satisfied: certifi>=2017.4.17 in /usr/local/lib/python3.10/dist-packages (from requests->torchtext) (2022.12.7)\n",
            "Requirement already satisfied: charset-normalizer~=2.0.0 in /usr/local/lib/python3.10/dist-packages (from requests->torchtext) (2.0.12)\n",
            "Requirement already satisfied: idna<4,>=2.5 in /usr/local/lib/python3.10/dist-packages (from requests->torchtext) (3.4)\n",
            "Requirement already satisfied: mpmath>=0.19 in /usr/local/lib/python3.10/dist-packages (from sympy->torch) (1.3.0)\n",
            "Looking in indexes: https://pypi.org/simple, https://us-python.pkg.dev/colab-wheels/public/simple/\n",
            "Requirement already satisfied: torchdata in /usr/local/lib/python3.10/dist-packages (0.6.0)\n",
            "Requirement already satisfied: urllib3>=1.25 in /usr/local/lib/python3.10/dist-packages (from torchdata) (1.26.15)\n",
            "Requirement already satisfied: torch==2.0.0 in /usr/local/lib/python3.10/dist-packages (from torchdata) (2.0.0+cu118)\n",
            "Requirement already satisfied: requests in /usr/local/lib/python3.10/dist-packages (from torchdata) (2.27.1)\n",
            "Requirement already satisfied: networkx in /usr/local/lib/python3.10/dist-packages (from torch==2.0.0->torchdata) (3.1)\n",
            "Requirement already satisfied: jinja2 in /usr/local/lib/python3.10/dist-packages (from torch==2.0.0->torchdata) (3.1.2)\n",
            "Requirement already satisfied: triton==2.0.0 in /usr/local/lib/python3.10/dist-packages (from torch==2.0.0->torchdata) (2.0.0)\n",
            "Requirement already satisfied: typing-extensions in /usr/local/lib/python3.10/dist-packages (from torch==2.0.0->torchdata) (4.5.0)\n",
            "Requirement already satisfied: sympy in /usr/local/lib/python3.10/dist-packages (from torch==2.0.0->torchdata) (1.11.1)\n",
            "Requirement already satisfied: filelock in /usr/local/lib/python3.10/dist-packages (from torch==2.0.0->torchdata) (3.12.0)\n",
            "Requirement already satisfied: lit in /usr/local/lib/python3.10/dist-packages (from triton==2.0.0->torch==2.0.0->torchdata) (16.0.2)\n",
            "Requirement already satisfied: cmake in /usr/local/lib/python3.10/dist-packages (from triton==2.0.0->torch==2.0.0->torchdata) (3.25.2)\n",
            "Requirement already satisfied: charset-normalizer~=2.0.0 in /usr/local/lib/python3.10/dist-packages (from requests->torchdata) (2.0.12)\n",
            "Requirement already satisfied: certifi>=2017.4.17 in /usr/local/lib/python3.10/dist-packages (from requests->torchdata) (2022.12.7)\n",
            "Requirement already satisfied: idna<4,>=2.5 in /usr/local/lib/python3.10/dist-packages (from requests->torchdata) (3.4)\n",
            "Requirement already satisfied: MarkupSafe>=2.0 in /usr/local/lib/python3.10/dist-packages (from jinja2->torch==2.0.0->torchdata) (2.1.2)\n",
            "Requirement already satisfied: mpmath>=0.19 in /usr/local/lib/python3.10/dist-packages (from sympy->torch==2.0.0->torchdata) (1.3.0)\n",
            "Looking in indexes: https://pypi.org/simple, https://us-python.pkg.dev/colab-wheels/public/simple/\n",
            "Requirement already satisfied: portalocker in /usr/local/lib/python3.10/dist-packages (2.7.0)\n"
          ]
        }
      ],
      "source": [
        "#PyTorch include the downloadable datasets (e.g., \"torchtext\") \n",
        "# Install the fowlling. \n",
        "!pip3 install torch torchtext numpy\n",
        "!pip install torchdata\n",
        "!pip install portalocker"
      ]
    },
    {
      "cell_type": "markdown",
      "id": "e5b6d8c2-ff47-43b3-b778-f9442b8ad184",
      "metadata": {
        "id": "e5b6d8c2-ff47-43b3-b778-f9442b8ad184"
      },
      "source": [
        "Let's start with importing Pytorch"
      ]
    },
    {
      "cell_type": "code",
      "execution_count": null,
      "id": "bffc6266-43c1-4a7c-a5fc-3ed887f8dcea",
      "metadata": {
        "colab": {
          "base_uri": "https://localhost:8080/"
        },
        "id": "bffc6266-43c1-4a7c-a5fc-3ed887f8dcea",
        "outputId": "e524ff05-d232-4d23-c0c1-0f2cc60b2140"
      },
      "outputs": [
        {
          "output_type": "stream",
          "name": "stdout",
          "text": [
            "Using torch 2.0.0+cu118\n"
          ]
        }
      ],
      "source": [
        "import torch\n",
        "print(\"Using torch\", torch.__version__)"
      ]
    },
    {
      "cell_type": "markdown",
      "id": "76611283-6d3f-41e4-939b-e22ced2347f0",
      "metadata": {
        "id": "76611283-6d3f-41e4-939b-e22ced2347f0"
      },
      "source": [
        "Check if GPU is available\n"
      ]
    },
    {
      "cell_type": "code",
      "execution_count": null,
      "id": "6027c0a6-0fb4-4274-8a28-580da44b59f6",
      "metadata": {
        "colab": {
          "base_uri": "https://localhost:8080/"
        },
        "id": "6027c0a6-0fb4-4274-8a28-580da44b59f6",
        "outputId": "14d04238-a79b-490a-8db8-2fede0d24e38"
      },
      "outputs": [
        {
          "output_type": "execute_result",
          "data": {
            "text/plain": [
              "True"
            ]
          },
          "metadata": {},
          "execution_count": 4
        }
      ],
      "source": [
        "torch.cuda.is_available()"
      ]
    },
    {
      "cell_type": "code",
      "execution_count": null,
      "id": "6c496c23-67df-4379-8dd6-aef84cfee6ac",
      "metadata": {
        "colab": {
          "base_uri": "https://localhost:8080/"
        },
        "id": "6c496c23-67df-4379-8dd6-aef84cfee6ac",
        "outputId": "f80e61f2-8943-464d-c12e-43ac6f4d4ad4"
      },
      "outputs": [
        {
          "output_type": "execute_result",
          "data": {
            "text/plain": [
              "1"
            ]
          },
          "metadata": {},
          "execution_count": 5
        }
      ],
      "source": [
        "torch.cuda.device_count()"
      ]
    },
    {
      "cell_type": "code",
      "execution_count": null,
      "id": "e98cc11d-a781-4eed-a074-52b32a018d8f",
      "metadata": {
        "colab": {
          "base_uri": "https://localhost:8080/"
        },
        "id": "e98cc11d-a781-4eed-a074-52b32a018d8f",
        "outputId": "6951e89c-e0a2-4d03-bf66-9ab8e4851cbd"
      },
      "outputs": [
        {
          "output_type": "execute_result",
          "data": {
            "text/plain": [
              "0"
            ]
          },
          "metadata": {},
          "execution_count": 6
        }
      ],
      "source": [
        "torch.cuda.current_device()"
      ]
    },
    {
      "cell_type": "markdown",
      "id": "4cbe18c2-fe19-469b-999c-b483e84b5c88",
      "metadata": {
        "id": "4cbe18c2-fe19-469b-999c-b483e84b5c88",
        "tags": []
      },
      "source": [
        "### Tensors\n",
        "Tensors are a specialized data structure that are very similar to arrays and matrices. In PyTorch, we use tensors to encode the inputs and outputs of a model, as well as the model’s parameters.\n",
        "\n",
        "Tensors are similar to NumPy’s ndarrays, except that tensors can run on GPUs or other hardware accelerators. In fact, tensors and NumPy arrays can often share the same underlying memory, eliminating the need to copy data (see Bridge with NumPy). Tensors are also optimized for automatic differentiation (we’ll see more about that later in the Autograd section). If you’re familiar with ndarrays, you’ll be right at home with the Tensor API. If not, follow along!"
      ]
    },
    {
      "cell_type": "code",
      "execution_count": null,
      "id": "2a91c9d9-1605-4b44-b005-11ddabc7a3b1",
      "metadata": {
        "id": "2a91c9d9-1605-4b44-b005-11ddabc7a3b1"
      },
      "outputs": [],
      "source": [
        "import torch\n",
        "import numpy as np"
      ]
    },
    {
      "cell_type": "markdown",
      "id": "a86ac55c-5756-47fd-83cb-cbbef80cab96",
      "metadata": {
        "id": "a86ac55c-5756-47fd-83cb-cbbef80cab96"
      },
      "source": [
        "Tensors can be created directly from data or from NumPy arrays."
      ]
    },
    {
      "cell_type": "code",
      "execution_count": null,
      "id": "4c0b30b7-d5a3-45fc-8402-50d1d289436a",
      "metadata": {
        "id": "4c0b30b7-d5a3-45fc-8402-50d1d289436a"
      },
      "outputs": [],
      "source": [
        "# Directly from data\n",
        "data = [[1, 2],[3, 4]]\n",
        "x_data = torch.tensor(data)\n",
        "\n",
        "# From a NumPy array\n",
        "np_array = np.array(data)\n",
        "x_np = torch.from_numpy(np_array)"
      ]
    },
    {
      "cell_type": "markdown",
      "id": "edbb6a28-3866-47c5-8b16-073c4cc84d71",
      "metadata": {
        "id": "edbb6a28-3866-47c5-8b16-073c4cc84d71"
      },
      "source": [
        "Tensor attributes describe their shape, datatype, and the device on which they are stored."
      ]
    },
    {
      "cell_type": "code",
      "execution_count": null,
      "id": "011b34a3-b57a-4889-9805-ae96528cbde0",
      "metadata": {
        "colab": {
          "base_uri": "https://localhost:8080/"
        },
        "id": "011b34a3-b57a-4889-9805-ae96528cbde0",
        "outputId": "8f241d02-71ef-4666-8cb5-018931c1fe01"
      },
      "outputs": [
        {
          "output_type": "stream",
          "name": "stdout",
          "text": [
            "Shape of tensor: torch.Size([2, 2])\n",
            "Datatype of tensor: torch.int64\n",
            "Device tensor is stored on: cpu\n"
          ]
        }
      ],
      "source": [
        "print(f\"Shape of tensor: {x_data.shape}\")\n",
        "print(f\"Datatype of tensor: {x_data.dtype}\")\n",
        "print(f\"Device tensor is stored on: {x_data.device}\")"
      ]
    },
    {
      "cell_type": "markdown",
      "id": "b61eddd2-0c89-45d7-a25c-7fa5e0a2c256",
      "metadata": {
        "id": "b61eddd2-0c89-45d7-a25c-7fa5e0a2c256"
      },
      "source": [
        "`shape` is a tuple of tensor dimensions. We can create a new tensor by specifying the dimensionality and initialize it with random or constant values.\n",
        "- `torch.zeros`: Creates a tensor filled with zeros\n",
        "- `torch.ones`: Creates a tensor filled with ones\n",
        "- `torch.rand`: Creates a tensor with random values uniformly sampled between 0 and 1"
      ]
    },
    {
      "cell_type": "code",
      "execution_count": null,
      "id": "4120e3ea-f1df-43c3-8ba5-a2d37e1f6044",
      "metadata": {
        "colab": {
          "base_uri": "https://localhost:8080/"
        },
        "id": "4120e3ea-f1df-43c3-8ba5-a2d37e1f6044",
        "outputId": "7f047546-4388-45c7-db34-6e5f5e359c9d"
      },
      "outputs": [
        {
          "output_type": "stream",
          "name": "stdout",
          "text": [
            "Random Tensor: \n",
            " tensor([[0.0627, 0.0962, 0.1936],\n",
            "        [0.8497, 0.4206, 0.5859]]) \n",
            "\n",
            "Ones Tensor: \n",
            " tensor([[1., 1., 1.],\n",
            "        [1., 1., 1.]]) \n",
            "\n",
            "Zeros Tensor: \n",
            " tensor([[0., 0., 0.],\n",
            "        [0., 0., 0.]])\n"
          ]
        }
      ],
      "source": [
        "shape = (2,3,)\n",
        "rand_tensor = torch.rand(shape)\n",
        "ones_tensor = torch.ones(shape)\n",
        "zeros_tensor = torch.zeros(shape)\n",
        "\n",
        "print(f\"Random Tensor: \\n {rand_tensor} \\n\")\n",
        "print(f\"Ones Tensor: \\n {ones_tensor} \\n\")\n",
        "print(f\"Zeros Tensor: \\n {zeros_tensor}\")"
      ]
    },
    {
      "cell_type": "markdown",
      "id": "b7527959-ca5d-44ee-a796-9cfd8b2b32c3",
      "metadata": {
        "id": "b7527959-ca5d-44ee-a796-9cfd8b2b32c3"
      },
      "source": [
        "We can also create a tensor from another tensor. The new tensor retains the properties (shape, datatype) of the argument tensor, unless explicitly overridden.\n",
        "* `torch.zeros_like`: Creates a tensor filled with zeros\n",
        "* `torch.ones_like`: Creates a tensor filled with ones\n",
        "* `torch.rand_like`: Creates a tensor with random values uniformly sampled between 0 and 1"
      ]
    },
    {
      "cell_type": "code",
      "execution_count": null,
      "id": "81ed6539-ca0e-4263-922f-2fd8e153ee32",
      "metadata": {
        "colab": {
          "base_uri": "https://localhost:8080/"
        },
        "id": "81ed6539-ca0e-4263-922f-2fd8e153ee32",
        "outputId": "4c9827fe-f965-41b3-c690-ced786f455c8"
      },
      "outputs": [
        {
          "output_type": "stream",
          "name": "stdout",
          "text": [
            "Ones Tensor: \n",
            " tensor([[1, 1],\n",
            "        [1, 1]]) \n",
            "\n",
            "Random Tensor: \n",
            " tensor([[0.2302, 0.2607],\n",
            "        [0.1067, 0.2830]]) \n",
            "\n"
          ]
        }
      ],
      "source": [
        "x_ones = torch.ones_like(x_data) # retains the properties of x_data\n",
        "print(f\"Ones Tensor: \\n {x_ones} \\n\")\n",
        "\n",
        "x_rand = torch.rand_like(x_data, dtype=torch.float) # overrides the datatype of x_data\n",
        "print(f\"Random Tensor: \\n {x_rand} \\n\")"
      ]
    },
    {
      "cell_type": "markdown",
      "id": "4f7ea3ed-b937-4ee6-bd8b-4851887049f5",
      "metadata": {
        "id": "4f7ea3ed-b937-4ee6-bd8b-4851887049f5"
      },
      "source": [
        "#### Operations on Tensors\n",
        "Over 100 tensor operations, including arithmetic, linear algebra, matrix manipulation (transposing, indexing, slicing), sampling and more are comprehensively described [here](https://pytorch.org/docs/stable/torch.html).\n",
        "\n",
        "By default, tensors are created on the CPU. We need to explicitly move tensors to the GPU using `.to` method (after checking for GPU availability). Keep in mind that copying large tensors across devices can be expensive in terms of time and memory!"
      ]
    },
    {
      "cell_type": "code",
      "execution_count": null,
      "id": "dbedd62e-cda2-4908-86a4-a3ad3986afba",
      "metadata": {
        "colab": {
          "base_uri": "https://localhost:8080/"
        },
        "id": "dbedd62e-cda2-4908-86a4-a3ad3986afba",
        "outputId": "efe4148a-d048-4f8d-d787-ef8a0620a72b"
      },
      "outputs": [
        {
          "output_type": "execute_result",
          "data": {
            "text/plain": [
              "tensor([[0.0799, 0.0575, 0.3404, 0.9873],\n",
              "        [0.3090, 0.3081, 0.7725, 0.7711],\n",
              "        [0.3139, 0.1672, 0.3240, 0.9477]], device='cuda:0')"
            ]
          },
          "metadata": {},
          "execution_count": 12
        }
      ],
      "source": [
        "tensor = torch.rand(3,4)\n",
        "# # We move our tensor to the GPU if available\n",
        "if torch.cuda.is_available():\n",
        "    tensor = tensor.to(\"cuda\")\n",
        "tensor"
      ]
    },
    {
      "cell_type": "markdown",
      "id": "1ef0aaf9-f371-4881-87c8-d24929a9a072",
      "metadata": {
        "id": "1ef0aaf9-f371-4881-87c8-d24929a9a072"
      },
      "source": [
        "We can perform standard numpy-like indexing and slicing"
      ]
    },
    {
      "cell_type": "code",
      "execution_count": null,
      "id": "1898e71b-7bb8-410d-8357-25014549721c",
      "metadata": {
        "colab": {
          "base_uri": "https://localhost:8080/"
        },
        "id": "1898e71b-7bb8-410d-8357-25014549721c",
        "outputId": "5c7345dd-d158-4aaf-e512-ebdf57f91f51"
      },
      "outputs": [
        {
          "output_type": "stream",
          "name": "stdout",
          "text": [
            "First row: tensor([0.0799, 0.0575, 0.3404, 0.9873], device='cuda:0')\n",
            "First column: tensor([0.0799, 0.3090, 0.3139], device='cuda:0')\n",
            "Last column: tensor([0.9873, 0.7711, 0.9477], device='cuda:0')\n",
            "tensor([[0.0799, 0.0000, 0.3404, 0.9873],\n",
            "        [0.3090, 0.0000, 0.7725, 0.7711],\n",
            "        [0.3139, 0.0000, 0.3240, 0.9477]], device='cuda:0')\n"
          ]
        }
      ],
      "source": [
        "print(f\"First row: {tensor[0]}\")\n",
        "print(f\"First column: {tensor[:, 0]}\")\n",
        "print(f\"Last column: {tensor[..., -1]}\")\n",
        "tensor[:,1] = 0\n",
        "print(tensor)"
      ]
    },
    {
      "cell_type": "markdown",
      "id": "d57e089d-de80-40ff-958b-66d65bec3b48",
      "metadata": {
        "id": "d57e089d-de80-40ff-958b-66d65bec3b48"
      },
      "source": [
        "We can use torch.cat to concatenate a sequence of tensors along a given dimension. See also torch.stack, another tensor joining op that is subtly different from torch.cat."
      ]
    },
    {
      "cell_type": "code",
      "execution_count": null,
      "id": "e243778f-9fb2-4795-a70e-ef3ea195bb5c",
      "metadata": {
        "colab": {
          "base_uri": "https://localhost:8080/"
        },
        "id": "e243778f-9fb2-4795-a70e-ef3ea195bb5c",
        "outputId": "118567c6-b2f0-4578-b86c-2775e9eb4f15"
      },
      "outputs": [
        {
          "output_type": "stream",
          "name": "stdout",
          "text": [
            "tensor([[0.0799, 0.0000, 0.3404, 0.9873, 0.0799, 0.0000, 0.3404, 0.9873, 0.0799,\n",
            "         0.0000, 0.3404, 0.9873],\n",
            "        [0.3090, 0.0000, 0.7725, 0.7711, 0.3090, 0.0000, 0.7725, 0.7711, 0.3090,\n",
            "         0.0000, 0.7725, 0.7711],\n",
            "        [0.3139, 0.0000, 0.3240, 0.9477, 0.3139, 0.0000, 0.3240, 0.9477, 0.3139,\n",
            "         0.0000, 0.3240, 0.9477]], device='cuda:0')\n"
          ]
        }
      ],
      "source": [
        "t1 = torch.cat([tensor, tensor, tensor], dim=1)\n",
        "print(t1)"
      ]
    },
    {
      "cell_type": "markdown",
      "id": "99edaedf-b803-4285-9a1d-448dcb0ff3cd",
      "metadata": {
        "id": "99edaedf-b803-4285-9a1d-448dcb0ff3cd"
      },
      "source": [
        "PyTorch tensors perform arithmetic operations intuitively. Tensors of similar shapes may be added, multiplied, etc. Operations with scalars are distributed over the tensor:"
      ]
    },
    {
      "cell_type": "code",
      "execution_count": null,
      "id": "79c7b83d-499c-4ca5-98eb-f0285fc164ea",
      "metadata": {
        "colab": {
          "base_uri": "https://localhost:8080/"
        },
        "id": "79c7b83d-499c-4ca5-98eb-f0285fc164ea",
        "outputId": "7460bc88-b8d0-4a8c-89fc-d9a06ed4fe3f"
      },
      "outputs": [
        {
          "output_type": "stream",
          "name": "stderr",
          "text": [
            "<ipython-input-15-b4ae95d9e5de>:6: UserWarning: An output with one or more elements was resized since it had shape [3, 4], which does not match the required output shape [3, 3]. This behavior is deprecated, and in a future PyTorch release outputs will not be resized unless they have zero elements. You can explicitly reuse an out tensor t by resizing it, inplace, to zero elements with t.resize_(0). (Triggered internally at ../aten/src/ATen/native/Resize.cpp:26.)\n",
            "  torch.matmul(tensor, tensor.T, out=y3)\n"
          ]
        },
        {
          "output_type": "execute_result",
          "data": {
            "text/plain": [
              "tensor([[1.0970, 1.0490, 1.0710],\n",
              "        [1.0490, 1.2869, 1.0780],\n",
              "        [1.0710, 1.0780, 1.1016]], device='cuda:0')"
            ]
          },
          "metadata": {},
          "execution_count": 15
        }
      ],
      "source": [
        "# This computes the matrix multiplication between two tensors. y1, y2, y3 will have the same value\n",
        "y1 = tensor @ tensor.T\n",
        "y2 = tensor.matmul(tensor.T)\n",
        "\n",
        "y3 = torch.rand_like(tensor)\n",
        "torch.matmul(tensor, tensor.T, out=y3)"
      ]
    },
    {
      "cell_type": "code",
      "execution_count": null,
      "id": "3dfa22b4-098e-4ce4-ac0d-63c5f6e11f9b",
      "metadata": {
        "colab": {
          "base_uri": "https://localhost:8080/"
        },
        "id": "3dfa22b4-098e-4ce4-ac0d-63c5f6e11f9b",
        "outputId": "51aec697-0302-4f2c-9c1a-c823ac1004af"
      },
      "outputs": [
        {
          "output_type": "execute_result",
          "data": {
            "text/plain": [
              "tensor([[0.0064, 0.0000, 0.1159, 0.9748],\n",
              "        [0.0955, 0.0000, 0.5968, 0.5945],\n",
              "        [0.0985, 0.0000, 0.1050, 0.8981]], device='cuda:0')"
            ]
          },
          "metadata": {},
          "execution_count": 16
        }
      ],
      "source": [
        "# This computes the element-wise product. z1, z2, z3 will have the same value\n",
        "z1 = tensor * tensor\n",
        "z2 = tensor.mul(tensor)\n",
        "\n",
        "z3 = torch.rand_like(tensor)\n",
        "torch.mul(tensor, tensor, out=z3)"
      ]
    },
    {
      "cell_type": "markdown",
      "id": "c96b8757-6674-4b93-9982-08a2660cfd74",
      "metadata": {
        "id": "c96b8757-6674-4b93-9982-08a2660cfd74"
      },
      "source": [
        " If you have a one-element tensor, for example by aggregating all values of a tensor into one value, you can convert it to a Python numerical value using item():"
      ]
    },
    {
      "cell_type": "code",
      "execution_count": null,
      "id": "58de95a6-98cd-4eef-b17d-750a0c925a50",
      "metadata": {
        "colab": {
          "base_uri": "https://localhost:8080/"
        },
        "id": "58de95a6-98cd-4eef-b17d-750a0c925a50",
        "outputId": "3ce79e54-5453-4b1c-dd51-47b4a1f5dc3c"
      },
      "outputs": [
        {
          "output_type": "stream",
          "name": "stdout",
          "text": [
            "4.845869541168213 <class 'float'>\n"
          ]
        }
      ],
      "source": [
        "agg = tensor.sum()\n",
        "agg_item = agg.item()\n",
        "print(agg_item, type(agg_item))"
      ]
    },
    {
      "cell_type": "markdown",
      "id": "411144f3-6455-48ef-b910-62d2b4569f35",
      "metadata": {
        "id": "411144f3-6455-48ef-b910-62d2b4569f35"
      },
      "source": [
        "**In-place operations** Operations that store the result into the operand are called in-place. They are denoted by a `_` suffix. For example: `x.copy_(y)`, `x.t_()`, will change `x`."
      ]
    },
    {
      "cell_type": "code",
      "execution_count": null,
      "id": "0f1101c0-5cf6-42ef-9f9e-628a57e5ab26",
      "metadata": {
        "colab": {
          "base_uri": "https://localhost:8080/"
        },
        "id": "0f1101c0-5cf6-42ef-9f9e-628a57e5ab26",
        "outputId": "010e8574-0fab-4569-ad7c-0b793601ff54"
      },
      "outputs": [
        {
          "output_type": "stream",
          "name": "stdout",
          "text": [
            "tensor([[0.0799, 0.0000, 0.3404, 0.9873],\n",
            "        [0.3090, 0.0000, 0.7725, 0.7711],\n",
            "        [0.3139, 0.0000, 0.3240, 0.9477]], device='cuda:0') \n",
            "\n",
            "tensor([[5.0799, 5.0000, 5.3404, 5.9873],\n",
            "        [5.3090, 5.0000, 5.7725, 5.7711],\n",
            "        [5.3139, 5.0000, 5.3240, 5.9477]], device='cuda:0')\n"
          ]
        }
      ],
      "source": [
        "print(f\"{tensor} \\n\")\n",
        "tensor.add_(5)\n",
        "print(tensor)"
      ]
    },
    {
      "cell_type": "markdown",
      "id": "e76068cd-05f0-4dd3-b417-47d15072f7ae",
      "metadata": {
        "id": "e76068cd-05f0-4dd3-b417-47d15072f7ae"
      },
      "source": [
        "Tensors on the CPU and NumPy arrays can share their underlying memory locations, and changing one will change the other."
      ]
    },
    {
      "cell_type": "code",
      "execution_count": null,
      "id": "bcfd013d-f778-4d20-aad6-8fdca1c6d99a",
      "metadata": {
        "colab": {
          "base_uri": "https://localhost:8080/"
        },
        "id": "bcfd013d-f778-4d20-aad6-8fdca1c6d99a",
        "outputId": "fa314e4f-76cf-462d-aa3f-28279dff0fb2"
      },
      "outputs": [
        {
          "output_type": "stream",
          "name": "stdout",
          "text": [
            "t: tensor([[5.0799, 5.0000, 5.3404, 5.9873],\n",
            "        [5.3090, 5.0000, 5.7725, 5.7711],\n",
            "        [5.3139, 5.0000, 5.3240, 5.9477]])\n",
            "n: [[5.0799174 5.        5.3404365 5.9873013]\n",
            " [5.309037  5.        5.772537  5.771062 ]\n",
            " [5.3138747 5.        5.324045  5.9476585]]\n"
          ]
        }
      ],
      "source": [
        "tensor = tensor.cpu()\n",
        "print(f\"t: {tensor}\")\n",
        "n = tensor.numpy()\n",
        "print(f\"n: {n}\")"
      ]
    },
    {
      "cell_type": "code",
      "execution_count": null,
      "id": "347b73e1-bfef-4f6e-927a-056134e22aeb",
      "metadata": {
        "colab": {
          "base_uri": "https://localhost:8080/"
        },
        "id": "347b73e1-bfef-4f6e-927a-056134e22aeb",
        "outputId": "07961b79-c5dd-4762-8fb7-5c226dc5fd21"
      },
      "outputs": [
        {
          "output_type": "stream",
          "name": "stdout",
          "text": [
            "t: tensor([[6.0799, 6.0000, 6.3404, 6.9873],\n",
            "        [6.3090, 6.0000, 6.7725, 6.7711],\n",
            "        [6.3139, 6.0000, 6.3240, 6.9477]])\n",
            "n: [[6.0799174 6.        6.3404365 6.9873013]\n",
            " [6.309037  6.        6.772537  6.771062 ]\n",
            " [6.3138747 6.        6.324045  6.9476585]]\n"
          ]
        }
      ],
      "source": [
        "# A change in the tensor reflects in the NumPy array.\n",
        "tensor.add_(1)\n",
        "print(f\"t: {tensor}\")\n",
        "print(f\"n: {n}\")"
      ]
    },
    {
      "cell_type": "markdown",
      "id": "970c3cd7-dac6-4870-a585-b4008e9c8852",
      "metadata": {
        "id": "970c3cd7-dac6-4870-a585-b4008e9c8852",
        "tags": []
      },
      "source": [
        "### Automatic Differentiation with torch.autograd\n",
        "When training neural networks, the most frequently used algorithm is **back propagation**. In this algorithm, parameters (model weights) are adjusted according to the gradient of the loss function with respect to the given parameter.\n",
        "\n",
        "To compute those gradients, PyTorch has a built-in differentiation engine called `torch.autograd`. It supports automatic computation of gradient for any computational graph.\n",
        "\n",
        "Consider the simplest one-layer neural network, with input `x`, parameters `w` and `b`, and some loss function. It can be defined in PyTorch in the following manner:"
      ]
    },
    {
      "cell_type": "code",
      "execution_count": null,
      "id": "026b2fc0-191f-461d-929b-86c6be1468a5",
      "metadata": {
        "id": "026b2fc0-191f-461d-929b-86c6be1468a5"
      },
      "outputs": [],
      "source": [
        "import torch\n",
        "\n",
        "x = torch.ones(5)  # input tensor\n",
        "y = torch.zeros(3)  # expected output\n",
        "w = torch.randn(5, 3, requires_grad=True)\n",
        "b = torch.randn(3, requires_grad=True)\n",
        "z = torch.matmul(x, w)+b\n",
        "loss = torch.nn.functional.binary_cross_entropy_with_logits(z, y)\n"
      ]
    },
    {
      "cell_type": "markdown",
      "id": "498c2966-f7c6-4081-86a9-b23d69c1ce14",
      "metadata": {
        "id": "498c2966-f7c6-4081-86a9-b23d69c1ce14"
      },
      "source": [
        "In this network, `w` and `b` are parameters, which we need to optimize. Thus, we need to be able to compute the gradients of loss function with respect to those variables. In order to do that, we set the `requires_grad` property of those tensors.\n",
        "\n",
        "A function that we apply to tensors to construct computational graph is in fact an object of class Function. This object knows how to compute the function in the forward direction, and also how to compute its derivative during the backward propagation step. A reference to the backward propagation function is stored in grad_fn property of a tensor. You can find more information of Function in the [documentation](https://pytorch.org/docs/stable/autograd.html#function\n",
        ")."
      ]
    },
    {
      "cell_type": "code",
      "execution_count": null,
      "id": "2b7e090b-8509-4b17-b4e9-42f936b1eb16",
      "metadata": {
        "colab": {
          "base_uri": "https://localhost:8080/"
        },
        "id": "2b7e090b-8509-4b17-b4e9-42f936b1eb16",
        "outputId": "14e7c514-3779-41c7-a420-3e3e34355118"
      },
      "outputs": [
        {
          "output_type": "stream",
          "name": "stdout",
          "text": [
            "Gradient function for z = <AddBackward0 object at 0x7f3981ca5630>\n",
            "Gradient function for loss = <BinaryCrossEntropyWithLogitsBackward0 object at 0x7f3981ca5240>\n"
          ]
        }
      ],
      "source": [
        "print(f\"Gradient function for z = {z.grad_fn}\")\n",
        "print(f\"Gradient function for loss = {loss.grad_fn}\")"
      ]
    },
    {
      "cell_type": "markdown",
      "id": "43152fd0-0109-49f5-a168-a29261ed97e4",
      "metadata": {
        "id": "43152fd0-0109-49f5-a168-a29261ed97e4"
      },
      "source": [
        "#### Computing Gradients\n",
        "\n",
        "To optimize weights of parameters in the neural network, we need to\n",
        "compute the derivatives of our loss function with respect to parameters. We need $\\frac{\\partial loss}{\\partial w}$ and\n",
        "$\\frac{\\partial loss}{\\partial b}$ to be under some fixed values of\n",
        "``x`` and ``y``. To compute those derivatives, we call\n",
        "``loss.backward()``, and then retrieve the values from ``w.grad`` and\n",
        "``b.grad``:\n",
        "\n"
      ]
    },
    {
      "cell_type": "code",
      "execution_count": null,
      "id": "58066343-5954-494e-8023-5cf7eead15fb",
      "metadata": {
        "colab": {
          "base_uri": "https://localhost:8080/"
        },
        "id": "58066343-5954-494e-8023-5cf7eead15fb",
        "outputId": "a093d601-9597-4ed7-9967-de4d2a4c62c9"
      },
      "outputs": [
        {
          "output_type": "stream",
          "name": "stdout",
          "text": [
            "tensor([[0.0907, 0.1157, 0.3149],\n",
            "        [0.0907, 0.1157, 0.3149],\n",
            "        [0.0907, 0.1157, 0.3149],\n",
            "        [0.0907, 0.1157, 0.3149],\n",
            "        [0.0907, 0.1157, 0.3149]])\n",
            "tensor([0.0907, 0.1157, 0.3149])\n"
          ]
        }
      ],
      "source": [
        "loss.backward()\n",
        "print(w.grad)\n",
        "print(b.grad)"
      ]
    },
    {
      "cell_type": "markdown",
      "id": "c0ff8ce9-aa49-4922-ac4f-32a655ed8b2b",
      "metadata": {
        "id": "c0ff8ce9-aa49-4922-ac4f-32a655ed8b2b"
      },
      "source": [
        "## Part2 - Word Level Recurrent Language Model"
      ]
    },
    {
      "cell_type": "markdown",
      "id": "27ef4739-ac6e-4ff1-9421-c4d3589fe7f7",
      "metadata": {
        "id": "27ef4739-ac6e-4ff1-9421-c4d3589fe7f7"
      },
      "source": [
        "#### Recurrent Neural Network (RNN)\n",
        "A recurrent neural network (RNN) is a neural network with a recurrent hidden layer $\\pmb{h}$ to operate over a sequence input $\\pmb{x} = (x_1,...,x_{|\\pmb{x}|})$, one symbol at a time. The recurrent connection represents that the hidden state at a time step becomes input of next time step. Having recurrent connection among hidden units, RNN can model long distance dependencies due to ability to pass information between time step. \n",
        "\n",
        "![rnn.png](https://drive.google.com/uc?export=view&id=1zkDrJ1rx4saigEKqj43Xrgt-3z29HESl)\n",
        "\n",
        "\n",
        "Above image shows a RNN and its unfolding in time. Generally, at time step $t$, the hidden state $h_t$ and output $y_t$  is updated as follows\n",
        "\\begin{align}\n",
        "h_t &= \\textrm{RNN}(h_{t-1}, x_t) \\\\ \n",
        "y_t &= \\text{O}(h_t) = h_t \n",
        "\\end{align}\n",
        "\n",
        "where $\\textrm{RNN}$ and $O$ denotes the function that computes hidden state and output vector. In simplest case, output function can be identity function as shown in previous equation. The simplest RNN formulation is Elman Network  which used $\\tanh$ as activation function\n",
        "\\begin{align}\n",
        "h_t &= \n",
        "\\begin{cases}\n",
        "\t\\tanh(h_{t_1}W^h + x_tW^x + b) & \\quad    (t \\geq 1) \\\\ \n",
        "\t0 & \\quad \\text{ otherwise}\n",
        "\\end{cases} \\\\\n",
        "\\end{align}\n",
        "where $W^h, W^x$ are weight matrices, $b$ is bias term."
      ]
    },
    {
      "cell_type": "markdown",
      "id": "9340f397-90a9-4447-91c0-88aa088a8b24",
      "metadata": {
        "jp-MarkdownHeadingCollapsed": true,
        "tags": [],
        "id": "9340f397-90a9-4447-91c0-88aa088a8b24"
      },
      "source": [
        "#### Recurrent Neural Language Model\n",
        "Similar to n-gram language model, the probability of a whole sentences are calculated by applying chained rules on probability of a word conditioned on previous words.\n",
        "\\begin{align}\n",
        "P(\\mathbf{w}) &= \\prod_{i=1}^{n} P(w_{i}|\\pmb{w}_{\\le i-1}) = \\prod_{i=1}^{n} \\textrm{RNN}(h_{i-1}, w_i) \n",
        "\\end{align}\n",
        "![rnnlm.png](https://drive.google.com/uc?export=view&id=1f-b4rmSj8FGkgEnC-plAvWiQ3IbHVSQi)\n",
        "\n",
        "The training objective is to maximize the log likelihood of the correct words."
      ]
    },
    {
      "cell_type": "markdown",
      "id": "8fb086b4-c26c-49a2-99c2-c73da36a2f7e",
      "metadata": {
        "id": "8fb086b4-c26c-49a2-99c2-c73da36a2f7e",
        "tags": []
      },
      "source": [
        "### Datasets & DataLoaders\n",
        "Code for processing data samples can get messy and hard to maintain; we ideally want our dataset code to be decoupled from our model training code for better readability and modularity. PyTorch provides two data primitives: `torch.utils.data.DataLoader` and `torch.utils.data.Dataset` that allow you to use pre-loaded datasets as well as your own data. `Dataset` stores the samples and their corresponding labels, and `DataLoader` wraps an iterable around the `Dataset` to enable easy access to the samples."
      ]
    },
    {
      "cell_type": "markdown",
      "id": "ae169d7e-fa93-4efa-9d67-c699abe8aba5",
      "metadata": {
        "id": "ae169d7e-fa93-4efa-9d67-c699abe8aba5"
      },
      "source": [
        "#### Loading a dataset\n",
        "We will load Wikitext2 dataset with the following parameters:\n",
        "- `root`: Directory where the datasets are saved. Default: .data\n",
        "-  `split`: split or splits to be returned. Can be a string or tuple of strings. Default: (‘train’, ‘valid’, ‘test’)"
      ]
    },
    {
      "cell_type": "code",
      "execution_count": null,
      "id": "be0325a3-9c64-45b0-bad5-a35c5655a4b2",
      "metadata": {
        "id": "be0325a3-9c64-45b0-bad5-a35c5655a4b2"
      },
      "outputs": [],
      "source": [
        "from torchtext.datasets import WikiText2\n",
        "from torchtext.data.utils import get_tokenizer\n",
        "from torchtext.vocab import build_vocab_from_iterator"
      ]
    },
    {
      "cell_type": "code",
      "source": [
        "import torchdata\n",
        "import portalocker"
      ],
      "metadata": {
        "id": "jSVaxTc65-oX"
      },
      "id": "jSVaxTc65-oX",
      "execution_count": null,
      "outputs": []
    },
    {
      "cell_type": "code",
      "execution_count": null,
      "id": "cbc2570b-c1ae-4760-8577-94869c1c18b2",
      "metadata": {
        "id": "cbc2570b-c1ae-4760-8577-94869c1c18b2",
        "colab": {
          "base_uri": "https://localhost:8080/"
        },
        "outputId": "6b724a31-6552-4427-d593-8c25eddbd918"
      },
      "outputs": [
        {
          "output_type": "stream",
          "name": "stdout",
          "text": [
            "Train size: 36718\n"
          ]
        }
      ],
      "source": [
        "train_iter, valid_iter, test_iter = WikiText2(\n",
        "    root=\"data\", \n",
        "    split=('train', 'valid', 'test'))\n",
        "\n",
        "num = 0\n",
        "for _ in train_iter:\n",
        "  num +=1\n",
        "\n",
        "print(f\"Train size: {num}\")"
      ]
    },
    {
      "cell_type": "code",
      "source": [
        "import itertools"
      ],
      "metadata": {
        "id": "HLxP9FDKmfOM"
      },
      "id": "HLxP9FDKmfOM",
      "execution_count": null,
      "outputs": []
    },
    {
      "cell_type": "code",
      "source": [
        "\n",
        "top5 = itertools.islice(train_iter, 5)\n",
        "for item in top5:\n",
        "  print(item)"
      ],
      "metadata": {
        "colab": {
          "base_uri": "https://localhost:8080/"
        },
        "id": "6cd5xDBOlEK0",
        "outputId": "5fd35739-9b91-4a77-f6ae-5c54705302a4"
      },
      "id": "6cd5xDBOlEK0",
      "execution_count": null,
      "outputs": [
        {
          "output_type": "stream",
          "name": "stdout",
          "text": [
            " \n",
            "\n",
            " = Valkyria Chronicles III = \n",
            "\n",
            " \n",
            "\n",
            " Senjō no Valkyria 3 : <unk> Chronicles ( Japanese : 戦場のヴァルキュリア3 , lit . Valkyria of the Battlefield 3 ) , commonly referred to as Valkyria Chronicles III outside Japan , is a tactical role @-@ playing video game developed by Sega and Media.Vision for the PlayStation Portable . Released in January 2011 in Japan , it is the third game in the Valkyria series . <unk> the same fusion of tactical and real @-@ time gameplay as its predecessors , the story runs parallel to the first game and follows the \" Nameless \" , a penal military unit serving the nation of Gallia during the Second Europan War who perform secret black operations and are pitted against the Imperial unit \" <unk> Raven \" . \n",
            "\n",
            " The game began development in 2010 , carrying over a large portion of the work done on Valkyria Chronicles II . While it retained the standard features of the series , it also underwent multiple adjustments , such as making the game more <unk> for series newcomers . Character designer <unk> Honjou and composer Hitoshi Sakimoto both returned from previous entries , along with Valkyria Chronicles II director Takeshi Ozawa . A large team of writers handled the script . The game 's opening theme was sung by May 'n . \n",
            "\n"
          ]
        }
      ]
    },
    {
      "cell_type": "markdown",
      "id": "bfecc8ef-51dd-4db2-a55a-5f0061d9d7f4",
      "metadata": {
        "id": "bfecc8ef-51dd-4db2-a55a-5f0061d9d7f4"
      },
      "source": [
        "#### Dataset preprocess\n",
        "We will tokenize and construct the vocabulary from the training dataset"
      ]
    },
    {
      "cell_type": "code",
      "execution_count": null,
      "id": "29b1fb7a-8a3f-4688-ad9c-7f7e657c004f",
      "metadata": {
        "id": "29b1fb7a-8a3f-4688-ad9c-7f7e657c004f"
      },
      "outputs": [],
      "source": [
        "from torchtext.data.utils import get_tokenizer\n",
        "from torchtext.vocab import build_vocab_from_iterator\n",
        "from torch.utils.data import dataset"
      ]
    },
    {
      "cell_type": "code",
      "execution_count": null,
      "id": "e918079e-8991-47a1-8a98-cb8c540b4914",
      "metadata": {
        "id": "e918079e-8991-47a1-8a98-cb8c540b4914"
      },
      "outputs": [],
      "source": [
        "tokenizer = get_tokenizer('basic_english')\n",
        "vocab = build_vocab_from_iterator(map(tokenizer, train_iter), specials=['<unk>'])\n",
        "vocab.set_default_index(vocab['<unk>'])"
      ]
    },
    {
      "cell_type": "code",
      "execution_count": null,
      "id": "f811a75a-cada-4d90-aa5a-f1b26a8579fc",
      "metadata": {
        "colab": {
          "base_uri": "https://localhost:8080/"
        },
        "id": "f811a75a-cada-4d90-aa5a-f1b26a8579fc",
        "outputId": "6e263db5-6f50-467f-fd85-16b6b6805e9f"
      },
      "outputs": [
        {
          "output_type": "stream",
          "name": "stdout",
          "text": [
            "Vocabulary size: 28782\n",
            "The first 10 words in the vocabulary: ['<unk>', 'the', ',', '.', 'of', 'and', 'in', 'to', 'a', '=']\n"
          ]
        }
      ],
      "source": [
        "print(f\"Vocabulary size: {len(vocab)}\")\n",
        "print(f\"The first 10 words in the vocabulary: {vocab.get_itos()[:10]}\")"
      ]
    },
    {
      "cell_type": "code",
      "source": [
        "vocab.lookup_tokens([1,2,3,4,5,6])"
      ],
      "metadata": {
        "colab": {
          "base_uri": "https://localhost:8080/"
        },
        "id": "zAdd_SPMzuk6",
        "outputId": "2fc99b21-7b02-42fe-95bd-9e870be82d3b"
      },
      "id": "zAdd_SPMzuk6",
      "execution_count": null,
      "outputs": [
        {
          "output_type": "execute_result",
          "data": {
            "text/plain": [
              "['the', ',', '.', 'of', 'and', 'in']"
            ]
          },
          "metadata": {},
          "execution_count": 40
        }
      ]
    },
    {
      "cell_type": "code",
      "execution_count": null,
      "id": "ab9a329b-62d0-4fa8-b0ce-81da34157a90",
      "metadata": {
        "colab": {
          "base_uri": "https://localhost:8080/"
        },
        "id": "ab9a329b-62d0-4fa8-b0ce-81da34157a90",
        "outputId": "58730c50-3f86-4021-9f9e-b4141986faf5",
        "tags": []
      },
      "outputs": [
        {
          "output_type": "execute_result",
          "data": {
            "text/plain": [
              "[1291, 23, 30, 617]"
            ]
          },
          "metadata": {},
          "execution_count": 32
        }
      ],
      "source": [
        "#The vocabulary block converts a list of tokens into integers.\n",
        "vocab(['here', 'is', 'an', 'example'])"
      ]
    },
    {
      "cell_type": "code",
      "execution_count": null,
      "id": "67c165bd-5618-41d5-adf5-6db6030ba75c",
      "metadata": {
        "colab": {
          "base_uri": "https://localhost:8080/"
        },
        "id": "67c165bd-5618-41d5-adf5-6db6030ba75c",
        "outputId": "13cf0279-775e-4866-ff08-d7750a2c4bda"
      },
      "outputs": [
        {
          "output_type": "execute_result",
          "data": {
            "text/plain": [
              "[1291, 23, 30, 1831, 28289, 0]"
            ]
          },
          "metadata": {},
          "execution_count": 33
        }
      ],
      "source": [
        "# Out-of-vocabulary tokens will be converted to `<unk>` (the default index)\n",
        "vocab(['here', 'is', 'an', 'unknown', 'token', 'asdfghj'])"
      ]
    },
    {
      "cell_type": "code",
      "execution_count": null,
      "id": "977864ca-3e31-40a6-b7bf-b0c8c1faa716",
      "metadata": {
        "id": "977864ca-3e31-40a6-b7bf-b0c8c1faa716"
      },
      "outputs": [],
      "source": [
        "def data_process(raw_text_iter: dataset.IterableDataset) -> torch.Tensor:\n",
        "    \"\"\"Converts raw text into a flat Tensor.\"\"\"\n",
        "    data = [torch.tensor(vocab(tokenizer(item)), dtype=torch.long) for item in raw_text_iter]\n",
        "    return torch.cat(tuple(filter(lambda t: t.numel() > 0, data)))\n",
        "train_iter, valid_iter, test_iter = WikiText2(\n",
        "    root=\"data\", \n",
        "    split=('train', 'valid', 'test'))\n",
        "train_stream = data_process(train_iter)\n",
        "valid_stream = data_process(valid_iter)\n",
        "test_stream = data_process(test_iter)\n"
      ]
    },
    {
      "cell_type": "code",
      "execution_count": null,
      "id": "c974bb20-3897-478f-a724-f386870dba5c",
      "metadata": {
        "colab": {
          "base_uri": "https://localhost:8080/"
        },
        "id": "c974bb20-3897-478f-a724-f386870dba5c",
        "outputId": "f0668d2a-993f-4054-8262-eefcb0fe69f4"
      },
      "outputs": [
        {
          "output_type": "execute_result",
          "data": {
            "text/plain": [
              "tensor([   9, 3849, 3869,  ..., 2442, 4810,    3])"
            ]
          },
          "metadata": {},
          "execution_count": 28
        }
      ],
      "source": [
        "train_stream"
      ]
    },
    {
      "cell_type": "code",
      "execution_count": null,
      "id": "6ba555d2-5ba4-42e7-ba6c-4c2a0f05b5ca",
      "metadata": {
        "id": "6ba555d2-5ba4-42e7-ba6c-4c2a0f05b5ca"
      },
      "outputs": [],
      "source": [
        "max_seq_length=10\n",
        "from typing import Tuple, List\n",
        "def create_data_tuples(source: torch.Tensor):\n",
        "    return [[source[i:i + max_seq_length], source[i+1:i+ max_seq_length + 1]]\n",
        "            for i in range(len(source) - max_seq_length)]\n"
      ]
    },
    {
      "cell_type": "markdown",
      "id": "90397f0a-1330-4faf-9ade-b462c690e16b",
      "metadata": {
        "id": "90397f0a-1330-4faf-9ade-b462c690e16b",
        "tags": []
      },
      "source": [
        "#### Create a Custom Dataset\n",
        "A custom Dataset class must implement three functions: __init__, __len__, and __getitem__."
      ]
    },
    {
      "cell_type": "code",
      "execution_count": null,
      "id": "19de6b08-70bf-4e6d-8deb-5cd1916f4a9c",
      "metadata": {
        "id": "19de6b08-70bf-4e6d-8deb-5cd1916f4a9c"
      },
      "outputs": [],
      "source": [
        "from torch.utils.data import Dataset\n",
        "class LMDataset(Dataset):\n",
        "    def __init__(self, source):\n",
        "        self.source = source\n",
        "        self.data = create_data_tuples(source)\n",
        "\n",
        "    def __len__(self):\n",
        "        return len(self.data)\n",
        "\n",
        "    def __getitem__(self, idx):\n",
        "        return self.data[idx]\n"
      ]
    },
    {
      "cell_type": "code",
      "execution_count": null,
      "id": "6b2d73eb-15c5-4918-b6e6-5260ba012bc8",
      "metadata": {
        "id": "6b2d73eb-15c5-4918-b6e6-5260ba012bc8"
      },
      "outputs": [],
      "source": [
        "train_dataset = LMDataset(train_stream)  \n",
        "valid_dataset = LMDataset(valid_stream)\n",
        "test_dataset = LMDataset(test_stream)\n"
      ]
    },
    {
      "cell_type": "code",
      "execution_count": null,
      "id": "99438c0d-5e53-429c-87fc-fed82ed27242",
      "metadata": {
        "colab": {
          "base_uri": "https://localhost:8080/"
        },
        "id": "99438c0d-5e53-429c-87fc-fed82ed27242",
        "outputId": "1d7ac04a-6b9f-46ab-ac3d-75d213f480d5"
      },
      "outputs": [
        {
          "output_type": "execute_result",
          "data": {
            "text/plain": [
              "[tensor([ 3849,  3869,   881,     9, 20000,    83,  3849,    88,     0,  3869]),\n",
              " tensor([ 3869,   881,     9, 20000,    83,  3849,    88,     0,  3869,    21])]"
            ]
          },
          "metadata": {},
          "execution_count": 41
        }
      ],
      "source": [
        "train_dataset[1]"
      ]
    },
    {
      "cell_type": "markdown",
      "id": "858c4598-39dd-4074-8199-41322f539874",
      "metadata": {
        "id": "858c4598-39dd-4074-8199-41322f539874"
      },
      "source": [
        "#### Preparing your data for training with DataLoaders\n",
        "The `Dataset` retrieves our dataset’s features and labels one sample at a time. While training a model, we typically want to pass samples in “minibatches”, reshuffle the data at every epoch to reduce model overfitting, and use Python’s `multiprocessing` to speed up data retrieval.\n",
        "\n",
        "`DataLoader` is an iterable that abstracts this complexity for us in an easy API."
      ]
    },
    {
      "cell_type": "code",
      "execution_count": null,
      "id": "8637a657-22a6-4d7c-9c28-1582c0d3cd1b",
      "metadata": {
        "id": "8637a657-22a6-4d7c-9c28-1582c0d3cd1b"
      },
      "outputs": [],
      "source": [
        "from torch.utils.data import DataLoader\n",
        "\n",
        "batch_size = 64\n",
        "eval_batch_size = 32\n",
        "\n",
        "train_dataloader = DataLoader(train_dataset, batch_size=batch_size, shuffle=True)\n",
        "valid_dataloader = DataLoader(valid_dataset, batch_size=eval_batch_size, shuffle=True)\n",
        "test_dataloader = DataLoader(test_dataset, batch_size=eval_batch_size, shuffle=True)"
      ]
    },
    {
      "cell_type": "markdown",
      "id": "a512e5fd-2b8f-4834-b87b-013f17f530c6",
      "metadata": {
        "id": "a512e5fd-2b8f-4834-b87b-013f17f530c6"
      },
      "source": [
        "#### Iterate through the DataLoader\n",
        "We have loaded that dataset into the `DataLoader` and can iterate through the dataset as needed. Each iteration below returns a batch of source and target sequences (containing batch_size=20 tuples respectively). Because we specified shuffle=True, after we iterate over all batches the data is shuffled (for finer-grained control over the data loading order, take a look at [Samplers](https://pytorch.org/docs/stable/data.html#data-loading-order-and-sampler))."
      ]
    },
    {
      "cell_type": "markdown",
      "source": [
        "src, tgt = next(iter(train_dataloader))\n",
        "print(f\"Source batch shape: {src.size()}\")\n",
        "print(f\"Target batch shape: {tgt.size()}\")"
      ],
      "metadata": {
        "id": "0417b9b6-3789-4e77-ac39-fa3004fbed0b"
      },
      "id": "0417b9b6-3789-4e77-ac39-fa3004fbed0b"
    },
    {
      "cell_type": "code",
      "source": [
        "src, tgt = next(iter(train_dataloader))\n",
        "print(f\"Source batch shape: {src.size()}\")\n",
        "print(f\"Target batch shape: {tgt.size()}\")"
      ],
      "metadata": {
        "colab": {
          "base_uri": "https://localhost:8080/"
        },
        "id": "qQ1Q4CyfTf9V",
        "outputId": "87b147d7-792c-4baa-8ff2-76bdbd5ef259"
      },
      "id": "qQ1Q4CyfTf9V",
      "execution_count": null,
      "outputs": [
        {
          "output_type": "stream",
          "name": "stdout",
          "text": [
            "Source batch shape: torch.Size([64, 10])\n",
            "Target batch shape: torch.Size([64, 10])\n"
          ]
        }
      ]
    },
    {
      "cell_type": "code",
      "source": [
        "print(src[0])\n",
        "print(tgt[0])"
      ],
      "metadata": {
        "colab": {
          "base_uri": "https://localhost:8080/"
        },
        "id": "FX1CwhEYTmkJ",
        "outputId": "71a4c0d7-abb3-458e-e5c9-71f58eebc890"
      },
      "id": "FX1CwhEYTmkJ",
      "execution_count": null,
      "outputs": [
        {
          "output_type": "stream",
          "name": "stdout",
          "text": [
            "tensor([ 197,  138,   82,    3, 4293,   21,    0,    2,    0,   20])\n",
            "tensor([ 138,   82,    3, 4293,   21,    0,    2,    0,   20,    8])\n"
          ]
        }
      ]
    },
    {
      "cell_type": "markdown",
      "id": "c5e05a42-2f08-4687-835a-90247f735bf4",
      "metadata": {
        "id": "c5e05a42-2f08-4687-835a-90247f735bf4"
      },
      "source": [
        "### Build the Neural Network"
      ]
    },
    {
      "cell_type": "markdown",
      "id": "ef45e1de-9bba-4b06-a1bd-409d4ae5603c",
      "metadata": {
        "id": "ef45e1de-9bba-4b06-a1bd-409d4ae5603c"
      },
      "source": [
        "#### Get Device for Training\n",
        "We want to be able to train our model on a hardware accelerator like the GPU, if it is available. Let’s check to see if torch.cuda is available, else we continue to use the CPU."
      ]
    },
    {
      "cell_type": "code",
      "execution_count": null,
      "id": "fc590007-ee3d-4466-b4a6-521bde250e41",
      "metadata": {
        "colab": {
          "base_uri": "https://localhost:8080/"
        },
        "id": "fc590007-ee3d-4466-b4a6-521bde250e41",
        "outputId": "46867b58-c89f-4372-b2b3-8c03fcd7c63d"
      },
      "outputs": [
        {
          "output_type": "stream",
          "name": "stdout",
          "text": [
            "Using cuda device\n"
          ]
        }
      ],
      "source": [
        "device = \"cuda\" if torch.cuda.is_available() else \"cpu\"\n",
        "print(f\"Using {device} device\")"
      ]
    },
    {
      "cell_type": "markdown",
      "id": "e79deb97-3005-48ed-b9ec-d247d3ab3ed4",
      "metadata": {
        "id": "e79deb97-3005-48ed-b9ec-d247d3ab3ed4"
      },
      "source": [
        "#### Define the Class\n",
        "We define our neural network by subclassing `nn.Module`, and initialize the neural network layers in `__init__`. Every `nn.Module` subclass implements the operations on input data in the `forward` method."
      ]
    },
    {
      "cell_type": "code",
      "execution_count": null,
      "id": "19f58e33-0ec6-4e92-a40c-23aff243a08c",
      "metadata": {
        "id": "19f58e33-0ec6-4e92-a40c-23aff243a08c"
      },
      "outputs": [],
      "source": [
        "import torch.nn as nn\n",
        "class WordLevelRecurrentLanguageModel(nn.Module):\n",
        "    def __init__(self, vocab_size, embedding_size, hidden_size):\n",
        "        super(WordLevelRecurrentLanguageModel, self).__init__()\n",
        "        self.hidden_size = hidden_size\n",
        "        self.embedding_size = embedding_size\n",
        "        \n",
        "        self.embedding = nn.Embedding(vocab_size, embedding_size)\n",
        "        self.rnn = nn.RNN(embedding_size, hidden_size, batch_first=True)\n",
        "        \n",
        "        self.fc = nn.Linear(hidden_size, vocab_size)\n",
        "        \n",
        "    def forward(self, x, hidden_states):\n",
        "        embedded = self.embedding(x)\n",
        "        out, hidden_states = self.rnn(embedded, hidden_states)\n",
        "        \n",
        "        # Reshaping the outputs to batch_size * seq_length x hidden_size\n",
        "        out = out.contiguous().view(-1, self.hidden_size)\n",
        "        out = self.fc(out)\n",
        "        return out, hidden_states\n",
        "    \n",
        "    def init_hidden_states(self, batch_size):\n",
        "        hidden_states = torch.zeros(1, batch_size, self.hidden_size)\n",
        "        return hidden_states\n"
      ]
    },
    {
      "cell_type": "markdown",
      "id": "9d3cdf2a-817c-4ed1-9670-fcfc394ce6d4",
      "metadata": {
        "id": "9d3cdf2a-817c-4ed1-9670-fcfc394ce6d4"
      },
      "source": [
        "We create an instance of `WordLevelRecurrentLanguageModel`, and move it to the device, and print its structure."
      ]
    },
    {
      "cell_type": "code",
      "execution_count": null,
      "id": "07389aae-ed67-4fa9-b102-1f7d17b84589",
      "metadata": {
        "id": "07389aae-ed67-4fa9-b102-1f7d17b84589"
      },
      "outputs": [],
      "source": [
        "vocab_size = len(vocab)\n",
        "embedding_size = 64\n",
        "hidden_size = 64\n",
        "model = WordLevelRecurrentLanguageModel(vocab_size, embedding_size, hidden_size).to(device)"
      ]
    },
    {
      "cell_type": "markdown",
      "id": "47347ba8-74ca-465d-a7fb-94b79663dbc0",
      "metadata": {
        "id": "47347ba8-74ca-465d-a7fb-94b79663dbc0"
      },
      "source": [
        "Many layers inside a neural network are parameterized, i.e. have associated weights and biases that are optimized during training. Subclassing `nn.Module` automatically tracks all fields defined inside your model object, and makes all parameters accessible using your model’s `parameters()` or `named_parameters()` methods.\n",
        "\n",
        "In this example, we iterate over each parameter, and print its size and a preview of its values."
      ]
    },
    {
      "cell_type": "code",
      "execution_count": null,
      "id": "7584bcf0-cf2a-4a66-b632-5ae2b4d7da55",
      "metadata": {
        "colab": {
          "base_uri": "https://localhost:8080/"
        },
        "id": "7584bcf0-cf2a-4a66-b632-5ae2b4d7da55",
        "outputId": "fb8f65b3-5b2c-49ad-b8a5-70b826d20dbb"
      },
      "outputs": [
        {
          "output_type": "stream",
          "name": "stdout",
          "text": [
            "Model structure: WordLevelRecurrentLanguageModel(\n",
            "  (embedding): Embedding(28782, 64)\n",
            "  (rnn): RNN(64, 64, batch_first=True)\n",
            "  (fc): Linear(in_features=64, out_features=28782, bias=True)\n",
            ")\n",
            "\n",
            "\n",
            "Layer: embedding.weight | Size: torch.Size([28782, 64]) | Values : tensor([[-1.3262, -1.4255,  0.8001, -1.0301, -0.6017,  0.8407, -1.2399,  1.2506,\n",
            "          0.1481, -0.9826,  0.6768, -0.3042,  1.1040,  0.4234,  1.2463,  0.2012,\n",
            "         -0.7883, -0.2560,  0.9730, -0.6398, -0.2981, -2.0335, -0.3573, -1.6084,\n",
            "         -0.3986,  0.7788, -0.7012,  0.7937, -0.9393, -0.4333,  0.4475,  1.4960,\n",
            "         -0.3972,  1.5357,  1.8472, -0.3796, -2.4107, -0.7223, -1.0914, -1.7269,\n",
            "          1.0639, -0.7753,  0.4376, -2.1993, -0.0662, -0.2571,  1.1669,  0.4841,\n",
            "          0.7840,  0.3355,  0.3492,  0.9092, -0.1509, -0.7557,  0.2134,  0.5374,\n",
            "          0.9334, -0.7528, -0.5809, -0.4361,  0.4235, -0.7776,  0.5672, -1.4143],\n",
            "        [ 0.2377, -0.3400, -1.3284,  0.4286,  0.4900,  0.5092, -0.8615, -1.5680,\n",
            "         -0.8887, -0.0924, -0.5923, -0.2920, -0.2341, -1.0518, -1.2536, -0.2085,\n",
            "          2.1651,  0.2377, -0.4095, -0.0970, -0.9131, -0.1922,  0.9966, -0.0794,\n",
            "          1.0635, -0.1161,  0.0471,  1.2973, -0.7430, -0.1504, -1.9536, -0.5420,\n",
            "         -0.6854, -0.8953,  0.1491, -0.8851,  0.1939, -0.9176,  0.9542,  0.0734,\n",
            "          0.0821,  0.2136, -0.4502,  1.5107, -0.3376, -0.5448, -1.1443, -1.5488,\n",
            "          2.8346, -0.3340, -1.1294,  1.6842,  0.0399,  0.7043,  0.8532, -0.1540,\n",
            "         -0.6292,  0.6131, -0.3671,  2.2752,  1.5597,  0.1474,  0.0786, -0.3168]],\n",
            "       device='cuda:0', grad_fn=<SliceBackward0>) \n",
            "\n",
            "Layer: rnn.weight_ih_l0 | Size: torch.Size([64, 64]) | Values : tensor([[-0.0398,  0.0553, -0.0065,  0.1192, -0.0303,  0.0864,  0.0046,  0.0649,\n",
            "          0.0782, -0.0701, -0.1078, -0.0292,  0.0333, -0.0032, -0.0350,  0.0400,\n",
            "         -0.1038,  0.0549, -0.0982,  0.0499,  0.0741,  0.0694,  0.0026, -0.0105,\n",
            "          0.0744, -0.0858, -0.0808,  0.0015,  0.1173, -0.0740,  0.1155,  0.0532,\n",
            "          0.0130, -0.0110,  0.0383,  0.1195,  0.0613, -0.0700,  0.0827,  0.0500,\n",
            "          0.0295, -0.0414, -0.0535, -0.0202,  0.0604, -0.0297, -0.0983, -0.0460,\n",
            "         -0.0439, -0.0644, -0.0895,  0.0163, -0.0315, -0.0319, -0.0242, -0.0717,\n",
            "         -0.1160,  0.1075, -0.0702, -0.0617,  0.0731, -0.0133, -0.0605, -0.0269],\n",
            "        [ 0.0050, -0.0842, -0.0227,  0.1040,  0.0476, -0.0382, -0.0186, -0.0951,\n",
            "          0.0737, -0.0512,  0.0468, -0.0386, -0.0779,  0.1092,  0.0888, -0.0746,\n",
            "          0.0593, -0.0007, -0.0445,  0.0224,  0.0627,  0.0545,  0.0737, -0.0244,\n",
            "         -0.0596,  0.0582,  0.0786,  0.0398, -0.0950, -0.0882, -0.0806, -0.0385,\n",
            "          0.0983, -0.0360,  0.0777, -0.0249, -0.0908, -0.1201,  0.0417, -0.0233,\n",
            "         -0.0644,  0.0527,  0.0795, -0.0244, -0.0157, -0.0653,  0.0919,  0.0395,\n",
            "         -0.0959, -0.0178, -0.0180, -0.0740,  0.0413, -0.1289,  0.0879, -0.0073,\n",
            "         -0.0258, -0.0445, -0.0597,  0.0848,  0.0630,  0.0788, -0.0330, -0.0276]],\n",
            "       device='cuda:0', grad_fn=<SliceBackward0>) \n",
            "\n",
            "Layer: rnn.weight_hh_l0 | Size: torch.Size([64, 64]) | Values : tensor([[ 0.1385, -0.1378, -0.0250, -0.0701, -0.1100,  0.0170,  0.0352,  0.0537,\n",
            "          0.0896,  0.1345,  0.0236, -0.1362, -0.0345, -0.0107, -0.1554,  0.0180,\n",
            "         -0.1254,  0.1100,  0.0745,  0.0654, -0.1662, -0.1086, -0.1096,  0.0346,\n",
            "         -0.0619, -0.0247,  0.0900,  0.0352, -0.1246,  0.0562, -0.1402,  0.0634,\n",
            "          0.0965,  0.0122,  0.0989,  0.0879, -0.0100,  0.0638,  0.0593, -0.1084,\n",
            "          0.0184,  0.0574,  0.0538, -0.0489, -0.0018,  0.0108,  0.0109,  0.1284,\n",
            "         -0.0713, -0.0577,  0.1230,  0.0962, -0.1091,  0.0276, -0.0801,  0.1371,\n",
            "         -0.1194,  0.0516,  0.0333, -0.0276, -0.0174, -0.0963, -0.1096, -0.0187],\n",
            "        [-0.1504,  0.0489,  0.0499, -0.0796,  0.0862, -0.0371, -0.0740,  0.0677,\n",
            "         -0.0730,  0.0483,  0.0758,  0.1627, -0.1198,  0.0961,  0.1337, -0.0571,\n",
            "          0.0098, -0.1487, -0.0604,  0.1621,  0.1020,  0.0459, -0.0244, -0.0142,\n",
            "         -0.0514, -0.0937,  0.0255, -0.1604,  0.0192, -0.0002,  0.0689, -0.0701,\n",
            "         -0.0656,  0.1644, -0.0511, -0.0835, -0.1553,  0.1048, -0.0396, -0.0295,\n",
            "          0.0158,  0.0968,  0.0628,  0.0144,  0.0495, -0.1521, -0.1185,  0.0359,\n",
            "         -0.0128,  0.1194,  0.0627,  0.0608, -0.0068, -0.0793, -0.0600, -0.0042,\n",
            "          0.1300, -0.1177, -0.0102,  0.1387, -0.0904,  0.0433, -0.0899, -0.1114]],\n",
            "       device='cuda:0', grad_fn=<SliceBackward0>) \n",
            "\n",
            "Layer: rnn.bias_ih_l0 | Size: torch.Size([64]) | Values : tensor([-0.2516,  0.4093], device='cuda:0', grad_fn=<SliceBackward0>) \n",
            "\n",
            "Layer: rnn.bias_hh_l0 | Size: torch.Size([64]) | Values : tensor([-0.3206,  0.3128], device='cuda:0', grad_fn=<SliceBackward0>) \n",
            "\n",
            "Layer: fc.weight | Size: torch.Size([28782, 64]) | Values : tensor([[-2.1246e-01,  2.0580e-01,  7.2683e-02,  1.3623e-01,  2.8999e-01,\n",
            "          3.7764e-02,  1.5421e-01, -2.3013e-01, -2.2724e-01, -8.8415e-02,\n",
            "         -1.1033e-01,  1.4931e-01, -1.7542e-01,  8.6906e-02,  1.0499e-02,\n",
            "          2.5268e-02,  2.4592e-01, -1.8045e-01, -1.2705e-01,  2.2340e-01,\n",
            "          3.1912e-01,  9.2733e-02, -9.1692e-05,  1.0286e-03, -1.7140e-01,\n",
            "         -7.4421e-02, -1.1267e-01, -2.8953e-01,  2.4253e-02, -7.4093e-02,\n",
            "          7.8450e-02, -2.2297e-02, -9.3650e-02,  1.6977e-01, -1.1444e-01,\n",
            "         -2.8234e-01, -1.7016e-01,  1.1238e-01,  2.3194e-01,  2.1007e-01,\n",
            "         -2.6341e-01,  1.1542e-02,  1.0425e-01, -1.7179e-01,  2.0152e-01,\n",
            "         -9.1946e-02,  1.2742e-01, -1.6930e-01,  9.9778e-02,  8.2556e-02,\n",
            "         -2.5435e-01, -1.6674e-02,  1.6141e-01, -6.9311e-02,  8.7026e-02,\n",
            "         -1.3257e-01,  1.6974e-02, -1.6139e-01,  7.6411e-02,  2.0202e-01,\n",
            "          1.4696e-01,  1.4140e-01, -5.8909e-02, -9.4079e-02],\n",
            "        [-5.5217e-02, -2.8461e-02,  1.8666e-01,  1.5854e-01,  3.4132e-01,\n",
            "         -2.0577e-01,  2.5419e-01, -6.0236e-02, -1.8996e-01, -3.9966e-01,\n",
            "          1.7135e-01,  1.6206e-01, -2.8652e-01,  2.3188e-01,  2.5059e-01,\n",
            "         -1.6021e-01,  3.5504e-01, -9.7242e-02, -1.5605e-01,  1.8186e-01,\n",
            "          4.0435e-01, -5.2683e-02,  3.9688e-01, -1.7053e-01, -8.5235e-02,\n",
            "         -1.3393e-01, -2.4435e-01, -1.2663e-01,  2.1951e-01,  1.1032e-01,\n",
            "          1.5568e-01, -4.5237e-01,  2.8780e-01,  1.5700e-01, -1.3743e-01,\n",
            "         -2.6552e-01, -1.9595e-01,  1.9662e-01,  1.0685e-01,  9.7628e-02,\n",
            "         -3.7259e-01,  8.3986e-02,  3.5531e-02, -1.4008e-01,  2.9226e-01,\n",
            "         -2.8071e-01,  1.7388e-01, -3.5037e-02, -1.2316e-01,  3.3323e-02,\n",
            "         -1.7991e-01,  1.0507e-01,  2.1792e-01, -6.8067e-02,  5.6093e-02,\n",
            "         -2.7556e-02,  2.0043e-01, -3.1494e-01, -2.6869e-01,  2.2797e-01,\n",
            "          2.7098e-01,  3.0420e-01, -1.9970e-01,  7.6899e-02]], device='cuda:0',\n",
            "       grad_fn=<SliceBackward0>) \n",
            "\n",
            "Layer: fc.bias | Size: torch.Size([28782]) | Values : tensor([0.3433, 0.6379], device='cuda:0', grad_fn=<SliceBackward0>) \n",
            "\n"
          ]
        }
      ],
      "source": [
        "print(f\"Model structure: {model}\\n\\n\")\n",
        "\n",
        "for name, param in model.named_parameters():\n",
        "    print(f\"Layer: {name} | Size: {param.size()} | Values : {param[:2]} \\n\")"
      ]
    },
    {
      "cell_type": "markdown",
      "id": "e2141e5c-9b11-4643-85de-84744bf9e7f7",
      "metadata": {
        "id": "e2141e5c-9b11-4643-85de-84744bf9e7f7"
      },
      "source": [
        "To use the model, we pass it the input data. This executes the model’s `forward`, along with some background operations. Do not call `model.forward()` directly!\n",
        "\n",
        "Calling the model on the input returns a vocab-size -dimensional tensor with raw predicted values for each token. We get the prediction probabilities by passing it through an instance of the `nn.Softmax` module."
      ]
    },
    {
      "cell_type": "code",
      "source": [
        "print(train_dataset[0][0])\n",
        "print(train_dataset[0][0].unsqueeze(0).to(device))\n",
        "print(train_dataset[0][0].unsqueeze(1).to(device))"
      ],
      "metadata": {
        "colab": {
          "base_uri": "https://localhost:8080/"
        },
        "id": "FfK0yWWawk3w",
        "outputId": "a70230f9-fff7-4325-86bd-70a0309490f1"
      },
      "id": "FfK0yWWawk3w",
      "execution_count": null,
      "outputs": [
        {
          "output_type": "stream",
          "name": "stdout",
          "text": [
            "tensor([    9,  3849,  3869,   881,     9, 20000,    83,  3849,    88,     0])\n",
            "tensor([[    9,  3849,  3869,   881,     9, 20000,    83,  3849,    88,     0]],\n",
            "       device='cuda:0')\n",
            "tensor([[    9],\n",
            "        [ 3849],\n",
            "        [ 3869],\n",
            "        [  881],\n",
            "        [    9],\n",
            "        [20000],\n",
            "        [   83],\n",
            "        [ 3849],\n",
            "        [   88],\n",
            "        [    0]], device='cuda:0')\n"
          ]
        }
      ]
    },
    {
      "cell_type": "code",
      "execution_count": null,
      "id": "4254ce6c-1275-4c0f-ae7f-74064d51f78e",
      "metadata": {
        "colab": {
          "base_uri": "https://localhost:8080/"
        },
        "id": "4254ce6c-1275-4c0f-ae7f-74064d51f78e",
        "outputId": "3463a531-1788-47f3-e04d-19e978288071"
      },
      "outputs": [
        {
          "output_type": "stream",
          "name": "stdout",
          "text": [
            "Predicted tokens: tensor([ 4838,  6234,  5189, 21226,  4838, 13182, 25473,  1427, 11939,  4479],\n",
            "       device='cuda:0')\n"
          ]
        }
      ],
      "source": [
        "x = train_dataset[0][0].unsqueeze(0).to(device)\n",
        "hidden_states = model.init_hidden_states(1).to(device)\n",
        "logits, states = model(x, hidden_states)\n",
        "pred_probab = nn.Softmax(dim=1)(logits)\n",
        "y_pred = pred_probab.argmax(1)\n",
        "print(f\"Predicted tokens: {y_pred}\")"
      ]
    },
    {
      "cell_type": "markdown",
      "id": "276e3249-9b72-4643-a7de-7312c42ec05e",
      "metadata": {
        "id": "276e3249-9b72-4643-a7de-7312c42ec05e"
      },
      "source": [
        "### Optimizing Model Parameters\n",
        "Now that we have a model and data it’s time to train, validate and test our model by optimizing its parameters on our data. Training a model is an iterative process; in each iteration (called an `epoch`) the model makes a guess about the output, calculates the error in its guess (`loss`), collects the derivatives of the error with respect to its parameters, and optimizes these parameters using gradient descent. "
      ]
    },
    {
      "cell_type": "markdown",
      "id": "540ec083-7049-4179-8652-b575c6760910",
      "metadata": {
        "id": "540ec083-7049-4179-8652-b575c6760910"
      },
      "source": [
        "Hyperparameters are adjustable parameters that let you control the model optimization process. Different hyperparameter values can impact model training and convergence rates (read more about hyperparameter tuning)\n",
        "\n",
        "We define the following hyperparameters for training:\n",
        "\n",
        "- Number of Epochs - the number times to iterate over the dataset\n",
        "- Batch Size - the number of data samples propagated through the network before the parameters are updated\n",
        "- Learning Rate - how much to update models parameters at each batch/epoch. Smaller values yield slow learning speed, while large values may result in unpredictable behavior during training.\n",
        "\n"
      ]
    },
    {
      "cell_type": "code",
      "execution_count": null,
      "id": "22791e47-ac28-4342-ba4d-33c451174597",
      "metadata": {
        "id": "22791e47-ac28-4342-ba4d-33c451174597"
      },
      "outputs": [],
      "source": [
        "learning_rate = 1e-3\n",
        "batch_size = 64\n",
        "epochs = 5"
      ]
    },
    {
      "cell_type": "markdown",
      "id": "c61bf557-cf89-4cdc-8754-6d1d3d41f003",
      "metadata": {
        "id": "c61bf557-cf89-4cdc-8754-6d1d3d41f003"
      },
      "source": [
        "#### Optimization Loop"
      ]
    },
    {
      "cell_type": "markdown",
      "id": "5ea86d53-2c6a-4be3-b02a-52ac62bdf0cf",
      "metadata": {
        "id": "5ea86d53-2c6a-4be3-b02a-52ac62bdf0cf"
      },
      "source": [
        "Once we set our hyperparameters, we can then train and optimize our model with an optimization loop. Each iteration of the optimization loop is called an epoch.\n",
        "\n",
        "Each epoch consists of two main parts:\n",
        "\n",
        "- The Train Loop - iterate over the training dataset and try to converge to optimal parameters.\n",
        "- The Validation/Test Loop - iterate over the test dataset to check if model performance is improving.\n",
        "\n",
        "Let’s briefly familiarize ourselves with some of the concepts used in the training loop\n"
      ]
    },
    {
      "cell_type": "markdown",
      "id": "a551548c-79dc-4048-ba0e-2f9e9b6d6f8b",
      "metadata": {
        "id": "a551548c-79dc-4048-ba0e-2f9e9b6d6f8b"
      },
      "source": [
        "#### Loss Function\n",
        "When presented with some training data, our untrained network is likely not to give the correct answer. Loss function measures the degree of dissimilarity of obtained result to the target value, and it is the loss function that we want to minimize during training. To calculate the loss we make a prediction using the inputs of our given data sample and compare it against the true data label value.\n",
        "\n",
        "Common loss functions include `nn.MSELoss` (Mean Square Error) for regression tasks, and `nn.NLLLoss` (Negative Log Likelihood) for classification. `nn.CrossEntropyLoss` combines `nn.LogSoftmax` and `nn.NLLLoss`.\n",
        "\n",
        "We pass our model’s output logits to `nn.CrossEntropyLoss`, which will normalize the logits and compute the prediction error."
      ]
    },
    {
      "cell_type": "code",
      "execution_count": null,
      "id": "78a49669-61af-43f0-9b9c-46c2d3326d5c",
      "metadata": {
        "id": "78a49669-61af-43f0-9b9c-46c2d3326d5c"
      },
      "outputs": [],
      "source": [
        "# Initialize the loss function\n",
        "loss_fn = nn.CrossEntropyLoss()"
      ]
    },
    {
      "cell_type": "markdown",
      "id": "558d0593-ecdb-49de-95a0-354eebf85def",
      "metadata": {
        "id": "558d0593-ecdb-49de-95a0-354eebf85def"
      },
      "source": [
        "#### Optimizer\n",
        "Optimization is the process of adjusting model parameters to reduce model error in each training step. **Optimization algorithms** define how this process is performed (in this example we use Stochastic Gradient Descent). All optimization logic is encapsulated in the `optimizer` object. Here, we use the SGD optimizer; additionally, there are many [different optimizers](https://pytorch.org/docs/stable/optim.html) available in PyTorch such as ADAM and RMSProp, that work better for different kinds of models and data.\n",
        "\n",
        "We initialize the optimizer by registering the model’s parameters that need to be trained, and passing in the learning rate hyperparameter."
      ]
    },
    {
      "cell_type": "code",
      "execution_count": null,
      "id": "18f3721d-afb8-4ca7-8548-fbd3658e1f89",
      "metadata": {
        "id": "18f3721d-afb8-4ca7-8548-fbd3658e1f89"
      },
      "outputs": [],
      "source": [
        "optimizer = torch.optim.SGD(model.parameters(), lr=learning_rate)"
      ]
    },
    {
      "cell_type": "markdown",
      "id": "ba19f4b7-0ba8-4007-b6b1-ae7e73df98da",
      "metadata": {
        "id": "ba19f4b7-0ba8-4007-b6b1-ae7e73df98da"
      },
      "source": [
        "\n",
        "Inside the training loop, optimization happens in three steps:\n",
        "\n",
        "- Call `optimizer.zero_grad()` to reset the gradients of model parameters. Gradients by default add up; to prevent double-counting, we explicitly zero them at each iteration.\n",
        "- Backpropagate the prediction loss with a call to `loss.backward()`. PyTorch deposits the gradients of the loss w.r.t. each parameter.\n",
        "- Once we have our gradients, we call `optimizer.step()` to adjust the parameters by the gradients collected in the backward pass.\n",
        "\n"
      ]
    },
    {
      "cell_type": "markdown",
      "id": "0d69101c-1a66-40e7-9b01-e61d85f825cd",
      "metadata": {
        "id": "0d69101c-1a66-40e7-9b01-e61d85f825cd"
      },
      "source": [
        "#### Full Implementation\n",
        "We define `train_loop` that loops over our optimization code, and `test_loop` that evaluates the model’s performance against our test data."
      ]
    },
    {
      "cell_type": "code",
      "execution_count": null,
      "id": "0b8f1848-a603-42bd-85dc-bc0f225c3d7d",
      "metadata": {
        "id": "0b8f1848-a603-42bd-85dc-bc0f225c3d7d"
      },
      "outputs": [],
      "source": [
        "history_loss = []\n",
        "history_dev_loss = []\n",
        "model.to(device)\n",
        "def train_loop(dataloader, model, loss_fn, optimizer):\n",
        "    size = len(dataloader.dataset)\n",
        "    for batch, (X, y) in enumerate(dataloader):\n",
        "        # Compute prediction and loss        \n",
        "        X = X.to(device)\n",
        "        y = y.to(device)\n",
        "        batch_size = X.size()[0]\n",
        "        hidden_states = model.init_hidden_states(batch_size).to(device)\n",
        "        logits, states = model(X, hidden_states)\n",
        "        loss = loss_fn(logits, y.view(-1))\n",
        "\n",
        "        # Backpropagation\n",
        "        optimizer.zero_grad()\n",
        "        loss.backward()\n",
        "        optimizer.step()\n",
        "\n",
        "        if batch % 1000 == 0:\n",
        "            loss, current = loss.item(), batch * len(X)\n",
        "            history_loss.append(loss)\n",
        "            print(f\"loss: {loss:>7f}  [{current:>5d}/{size:>5d}]\")\n",
        "\n",
        "\n",
        "def test_loop(dataloader, model, loss_fn):\n",
        "    size = len(dataloader.dataset)\n",
        "    num_batches = len(dataloader)\n",
        "    test_loss = 0\n",
        "\n",
        "    with torch.no_grad():\n",
        "        for X, y in dataloader:\n",
        "            X = X.to(device)\n",
        "            y = y.to(device)\n",
        "            batch_size = X.size()[0]\n",
        "            hidden_states = model.init_hidden_states(batch_size).to(device)\n",
        "            logits, states = model(X, hidden_states)\n",
        "            test_loss += loss_fn(logits, y.view(-1)).item()\n",
        "\n",
        "    test_loss /= size\n",
        "    history_dev_loss.append(loss)\n",
        "    print(f\"Avg loss: {test_loss:>8f} \\n\")"
      ]
    },
    {
      "cell_type": "markdown",
      "id": "3340be67-4d9d-4a6e-865a-84746492ef41",
      "metadata": {
        "id": "3340be67-4d9d-4a6e-865a-84746492ef41"
      },
      "source": [
        "We initialize the loss function and optimizer, and pass it to `train_loop` and `test_loop`. Feel free to increase the number of epochs to track the model’s improving performance."
      ]
    },
    {
      "cell_type": "code",
      "execution_count": null,
      "id": "5b86bf43-66cb-474e-b972-2611bb2919b1",
      "metadata": {
        "colab": {
          "base_uri": "https://localhost:8080/"
        },
        "id": "5b86bf43-66cb-474e-b972-2611bb2919b1",
        "outputId": "0a2cf79e-c7d7-41c5-a3a2-38ca345defd6"
      },
      "outputs": [
        {
          "output_type": "stream",
          "name": "stdout",
          "text": [
            "Epoch 1\n",
            "-------------------------------\n",
            "loss: 10.324711  [    0/2049980]\n",
            "loss: 10.281262  [64000/2049980]\n",
            "loss: 10.242194  [128000/2049980]\n",
            "loss: 10.199057  [192000/2049980]\n",
            "loss: 10.150320  [256000/2049980]\n",
            "loss: 10.040832  [320000/2049980]\n",
            "loss: 9.870606  [384000/2049980]\n",
            "loss: 9.652540  [448000/2049980]\n",
            "loss: 9.349940  [512000/2049980]\n",
            "loss: 8.881638  [576000/2049980]\n",
            "loss: 8.869509  [640000/2049980]\n",
            "loss: 8.513973  [704000/2049980]\n",
            "loss: 8.474136  [768000/2049980]\n",
            "loss: 8.309977  [832000/2049980]\n",
            "loss: 8.397352  [896000/2049980]\n",
            "loss: 8.072169  [960000/2049980]\n",
            "loss: 7.993558  [1024000/2049980]\n",
            "loss: 8.115429  [1088000/2049980]\n",
            "loss: 8.236747  [1152000/2049980]\n",
            "loss: 7.872289  [1216000/2049980]\n",
            "loss: 7.984025  [1280000/2049980]\n",
            "loss: 8.031525  [1344000/2049980]\n",
            "loss: 7.908545  [1408000/2049980]\n",
            "loss: 7.839429  [1472000/2049980]\n",
            "loss: 7.729629  [1536000/2049980]\n",
            "loss: 7.865251  [1600000/2049980]\n",
            "loss: 7.802162  [1664000/2049980]\n",
            "loss: 7.822999  [1728000/2049980]\n",
            "loss: 7.771064  [1792000/2049980]\n",
            "loss: 7.821778  [1856000/2049980]\n",
            "loss: 7.477744  [1920000/2049980]\n",
            "loss: 7.606014  [1984000/2049980]\n",
            "loss: 7.736312  [2048000/2049980]\n",
            "Avg loss: 0.233882 \n",
            "\n",
            "Epoch 2\n",
            "-------------------------------\n",
            "loss: 7.870004  [    0/2049980]\n",
            "loss: 7.763787  [64000/2049980]\n",
            "loss: 7.949937  [128000/2049980]\n",
            "loss: 7.458204  [192000/2049980]\n",
            "loss: 7.336038  [256000/2049980]\n",
            "loss: 7.668402  [320000/2049980]\n",
            "loss: 7.733707  [384000/2049980]\n",
            "loss: 7.542210  [448000/2049980]\n",
            "loss: 7.728211  [512000/2049980]\n",
            "loss: 7.608534  [576000/2049980]\n",
            "loss: 7.478304  [640000/2049980]\n",
            "loss: 7.394936  [704000/2049980]\n",
            "loss: 7.521611  [768000/2049980]\n",
            "loss: 7.753841  [832000/2049980]\n",
            "loss: 7.480109  [896000/2049980]\n",
            "loss: 7.483349  [960000/2049980]\n",
            "loss: 7.534603  [1024000/2049980]\n",
            "loss: 7.407340  [1088000/2049980]\n",
            "loss: 7.599947  [1152000/2049980]\n",
            "loss: 7.522104  [1216000/2049980]\n",
            "loss: 7.658538  [1280000/2049980]\n",
            "loss: 7.280340  [1344000/2049980]\n",
            "loss: 7.429287  [1408000/2049980]\n",
            "loss: 7.432213  [1472000/2049980]\n",
            "loss: 7.361263  [1536000/2049980]\n",
            "loss: 7.303268  [1600000/2049980]\n",
            "loss: 7.522652  [1664000/2049980]\n",
            "loss: 7.115475  [1728000/2049980]\n",
            "loss: 7.443243  [1792000/2049980]\n",
            "loss: 7.372855  [1856000/2049980]\n",
            "loss: 7.183926  [1920000/2049980]\n",
            "loss: 7.395616  [1984000/2049980]\n",
            "loss: 7.564937  [2048000/2049980]\n",
            "Avg loss: 0.223839 \n",
            "\n",
            "Done!\n"
          ]
        }
      ],
      "source": [
        "##### loss_fn = nn.CrossEntropyLoss()\n",
        "optimizer = torch.optim.SGD(model.parameters(), lr=learning_rate)\n",
        "\n",
        "epochs = 2\n",
        "model.to(device)\n",
        "for t in range(epochs):\n",
        "    print(f\"Epoch {t+1}\\n-------------------------------\")\n",
        "    train_loop(train_dataloader, model, loss_fn, optimizer)\n",
        "    test_loop(valid_dataloader, model, loss_fn)\n",
        "print(\"Done!\")"
      ]
    },
    {
      "cell_type": "markdown",
      "id": "iXg7oqD5SUl7",
      "metadata": {
        "id": "iXg7oqD5SUl7"
      },
      "source": [
        "### Save and Load the Model\n",
        "In this section we will look at how to persist model state with saving, loading and running model predictions."
      ]
    },
    {
      "cell_type": "code",
      "execution_count": null,
      "id": "cf2743a0-3aae-41b2-a07c-2c6aefed66d5",
      "metadata": {
        "id": "cf2743a0-3aae-41b2-a07c-2c6aefed66d5"
      },
      "outputs": [],
      "source": [
        "import torch\n",
        "import torchvision.models as models"
      ]
    },
    {
      "cell_type": "markdown",
      "id": "ybld2lWQScFt",
      "metadata": {
        "id": "ybld2lWQScFt"
      },
      "source": [
        "#### Saving and Loading Model Weights\n",
        "\n",
        "PyTorch models store the learned parameters in an internal state dictionary, called state_dict. These can be persisted via the torch.save method:"
      ]
    },
    {
      "cell_type": "code",
      "execution_count": null,
      "id": "MC3awTe7SqVA",
      "metadata": {
        "id": "MC3awTe7SqVA"
      },
      "outputs": [],
      "source": [
        "torch.save(model.state_dict(), 'model.pt')\n"
      ]
    },
    {
      "cell_type": "markdown",
      "id": "tiuPy5jAStIY",
      "metadata": {
        "id": "tiuPy5jAStIY"
      },
      "source": [
        "To load model weights, you need to create an instance of the same model first, and then load the parameters using load_state_dict() method."
      ]
    },
    {
      "cell_type": "code",
      "execution_count": null,
      "id": "S8ek2e6ZSsos",
      "metadata": {
        "id": "S8ek2e6ZSsos",
        "colab": {
          "base_uri": "https://localhost:8080/"
        },
        "outputId": "c85dde1d-5d2b-493a-9cc5-328909e2884a"
      },
      "outputs": [
        {
          "output_type": "execute_result",
          "data": {
            "text/plain": [
              "WordLevelRecurrentLanguageModel(\n",
              "  (embedding): Embedding(28782, 64)\n",
              "  (rnn): RNN(64, 64, batch_first=True)\n",
              "  (fc): Linear(in_features=64, out_features=28782, bias=True)\n",
              ")"
            ]
          },
          "metadata": {},
          "execution_count": 57
        }
      ],
      "source": [
        "model.load_state_dict(torch.load('model.pt'))\n",
        "model.eval()"
      ]
    },
    {
      "cell_type": "code",
      "source": [
        "from google.colab import drive\n",
        "drive.mount('/content/drive')\n",
        "file_path = \"/content/drive/MyDrive/Monash/Subjects/FIT5217/Tutorials/Week7\""
      ],
      "metadata": {
        "colab": {
          "base_uri": "https://localhost:8080/"
        },
        "id": "G_TPFnkrgEni",
        "outputId": "05b8a345-e089-4a45-8dde-a5d25da02e4c"
      },
      "id": "G_TPFnkrgEni",
      "execution_count": null,
      "outputs": [
        {
          "output_type": "stream",
          "name": "stdout",
          "text": [
            "Drive already mounted at /content/drive; to attempt to forcibly remount, call drive.mount(\"/content/drive\", force_remount=True).\n"
          ]
        }
      ]
    },
    {
      "cell_type": "code",
      "source": [
        "torch.save(model.state_dict(), file_path + '/model.pt')"
      ],
      "metadata": {
        "id": "gt9z_wOEgN1b"
      },
      "id": "gt9z_wOEgN1b",
      "execution_count": null,
      "outputs": []
    },
    {
      "cell_type": "code",
      "source": [
        "model.load_state_dict(torch.load(file_path + '/model.pt'))\n",
        "model.eval()"
      ],
      "metadata": {
        "colab": {
          "base_uri": "https://localhost:8080/",
          "height": 184
        },
        "id": "yVmFlc4lunf0",
        "outputId": "9d5c433b-c402-40bb-8918-16d238f62798"
      },
      "id": "yVmFlc4lunf0",
      "execution_count": null,
      "outputs": [
        {
          "output_type": "error",
          "ename": "NameError",
          "evalue": "ignored",
          "traceback": [
            "\u001b[0;31m---------------------------------------------------------------------------\u001b[0m",
            "\u001b[0;31mNameError\u001b[0m                                 Traceback (most recent call last)",
            "\u001b[0;32m<ipython-input-3-3e6bc11d2388>\u001b[0m in \u001b[0;36m<cell line: 1>\u001b[0;34m()\u001b[0m\n\u001b[0;32m----> 1\u001b[0;31m \u001b[0mmodel\u001b[0m\u001b[0;34m.\u001b[0m\u001b[0mload_state_dict\u001b[0m\u001b[0;34m(\u001b[0m\u001b[0mtorch\u001b[0m\u001b[0;34m.\u001b[0m\u001b[0mload\u001b[0m\u001b[0;34m(\u001b[0m\u001b[0mfile_path\u001b[0m \u001b[0;34m+\u001b[0m \u001b[0;34m'/model.pt'\u001b[0m\u001b[0;34m)\u001b[0m\u001b[0;34m)\u001b[0m\u001b[0;34m\u001b[0m\u001b[0;34m\u001b[0m\u001b[0m\n\u001b[0m\u001b[1;32m      2\u001b[0m \u001b[0mmodel\u001b[0m\u001b[0;34m.\u001b[0m\u001b[0meval\u001b[0m\u001b[0;34m(\u001b[0m\u001b[0;34m)\u001b[0m\u001b[0;34m\u001b[0m\u001b[0;34m\u001b[0m\u001b[0m\n",
            "\u001b[0;31mNameError\u001b[0m: name 'model' is not defined"
          ]
        }
      ]
    },
    {
      "cell_type": "markdown",
      "source": [
        "### Excercises\n",
        "1. Use your trained RNN Language Model to predict next word of the following sentence: _The quick brown fox jumps over_\n",
        "2. So far, we have limit the max sequence length to 10 (_max_seq_length_).Investigate the effect of different max sequence length to the RNN language model."
      ],
      "metadata": {
        "id": "fLqzKak_qb3B"
      },
      "id": "fLqzKak_qb3B"
    },
    {
      "cell_type": "code",
      "source": [
        "model.eval()"
      ],
      "metadata": {
        "colab": {
          "base_uri": "https://localhost:8080/"
        },
        "id": "Q1M-eZ4o5hBm",
        "outputId": "9144f34a-1623-4550-da63-f55a8fdea84d"
      },
      "id": "Q1M-eZ4o5hBm",
      "execution_count": null,
      "outputs": [
        {
          "output_type": "execute_result",
          "data": {
            "text/plain": [
              "WordLevelRecurrentLanguageModel(\n",
              "  (embedding): Embedding(28782, 64)\n",
              "  (rnn): RNN(64, 64, batch_first=True)\n",
              "  (fc): Linear(in_features=64, out_features=28782, bias=True)\n",
              ")"
            ]
          },
          "metadata": {},
          "execution_count": 49
        }
      ]
    },
    {
      "cell_type": "code",
      "source": [
        "input = vocab(['the', 'quick', 'brown', 'fox', 'jumps', 'over'])\n",
        "t_input = torch.tensor(input, dtype=torch.long).to(device)\n",
        "t_input = t_input.unsqueeze(0)\n",
        "print(t_input)\n",
        "print(vocab.lookup_tokens(input))"
      ],
      "metadata": {
        "colab": {
          "base_uri": "https://localhost:8080/"
        },
        "id": "DduuwuF9xzHS",
        "outputId": "0ebf6eea-603e-4c1a-981c-d06a13f15d72"
      },
      "id": "DduuwuF9xzHS",
      "execution_count": null,
      "outputs": [
        {
          "output_type": "stream",
          "name": "stdout",
          "text": [
            "tensor([[   1, 3275,  563, 1230, 6845,   65]], device='cuda:0')\n",
            "['the', 'quick', 'brown', 'fox', 'jumps', 'over']\n"
          ]
        }
      ]
    },
    {
      "cell_type": "code",
      "source": [
        "hidden_states = model.init_hidden_states(1).to(device)\n",
        "hidden_states"
      ],
      "metadata": {
        "colab": {
          "base_uri": "https://localhost:8080/"
        },
        "id": "IaXV53Z1r2lQ",
        "outputId": "ba58e308-6b59-4cda-d8d2-772f52cdbdd1"
      },
      "id": "IaXV53Z1r2lQ",
      "execution_count": null,
      "outputs": [
        {
          "output_type": "execute_result",
          "data": {
            "text/plain": [
              "tensor([[[0., 0., 0., 0., 0., 0., 0., 0., 0., 0., 0., 0., 0., 0., 0., 0., 0., 0., 0., 0., 0., 0., 0.,\n",
              "          0., 0., 0., 0., 0., 0., 0., 0., 0., 0., 0., 0., 0., 0., 0., 0., 0., 0., 0., 0., 0., 0., 0.,\n",
              "          0., 0., 0., 0., 0., 0., 0., 0., 0., 0., 0., 0., 0., 0., 0., 0., 0., 0.]]],\n",
              "       device='cuda:0')"
            ]
          },
          "metadata": {},
          "execution_count": 71
        }
      ]
    },
    {
      "cell_type": "code",
      "source": [
        "logits, states = model(t_input, hidden_states)"
      ],
      "metadata": {
        "id": "9CHJ38wxr9zQ"
      },
      "id": "9CHJ38wxr9zQ",
      "execution_count": null,
      "outputs": []
    },
    {
      "cell_type": "code",
      "source": [
        "pred_probab = nn.Softmax(dim=1)(logits)\n",
        "y_pred = pred_probab.argmax(1)\n",
        "print(f\"Predicted tokens: {y_pred}\")\n"
      ],
      "metadata": {
        "colab": {
          "base_uri": "https://localhost:8080/"
        },
        "id": "huzzX6MVxcea",
        "outputId": "b6b3fc4c-d404-42eb-e8fc-6103bfb3fdc8"
      },
      "id": "huzzX6MVxcea",
      "execution_count": null,
      "outputs": [
        {
          "output_type": "stream",
          "name": "stdout",
          "text": [
            "Predicted tokens: tensor([0, 2, 1, 1, 2, 1], device='cuda:0')\n"
          ]
        }
      ]
    },
    {
      "cell_type": "code",
      "source": [
        "print(vocab.vocab.lookup_tokens(y_pred.tolist()))"
      ],
      "metadata": {
        "colab": {
          "base_uri": "https://localhost:8080/"
        },
        "id": "uPfB7FlZyIvb",
        "outputId": "838517e3-5fb3-44aa-8944-4b5bfe52a32e"
      },
      "id": "uPfB7FlZyIvb",
      "execution_count": null,
      "outputs": [
        {
          "output_type": "stream",
          "name": "stdout",
          "text": [
            "['<unk>', ',', 'the', 'the', ',', 'the']\n"
          ]
        }
      ]
    },
    {
      "cell_type": "code",
      "source": [
        "x = train_dataset[0][1].unsqueeze(0).to(device)\n",
        "hidden_states = model.init_hidden_states(1).to(device)\n",
        "logits, states = model(x, hidden_states)\n",
        "pred_probab = nn.Softmax(dim=1)(logits)\n",
        "y_pred = pred_probab.argmax(1)\n",
        "print(f\"Predicted tokens: {y_pred}\")"
      ],
      "metadata": {
        "colab": {
          "base_uri": "https://localhost:8080/"
        },
        "id": "Y2qmXRUCslP9",
        "outputId": "61a36a23-1c37-4ae6-fb43-d22cb190d1f2"
      },
      "id": "Y2qmXRUCslP9",
      "execution_count": null,
      "outputs": [
        {
          "output_type": "stream",
          "name": "stdout",
          "text": [
            "Predicted tokens: tensor([1, 2, 2, 9, 2, 3, 1, 2, 2, 2], device='cuda:0')\n"
          ]
        }
      ]
    },
    {
      "cell_type": "code",
      "source": [
        "print(vocab.vocab.lookup_tokens(y_pred.tolist()))"
      ],
      "metadata": {
        "colab": {
          "base_uri": "https://localhost:8080/"
        },
        "id": "YUAm1MuU8yl8",
        "outputId": "70af2a2b-daa4-4437-d479-ce06bef16243"
      },
      "id": "YUAm1MuU8yl8",
      "execution_count": null,
      "outputs": [
        {
          "output_type": "stream",
          "name": "stdout",
          "text": [
            "['the', ',', ',', '=', ',', '.', 'the', ',', ',', ',']\n"
          ]
        }
      ]
    },
    {
      "cell_type": "code",
      "source": [],
      "metadata": {
        "id": "-UvkeWVf80JP"
      },
      "id": "-UvkeWVf80JP",
      "execution_count": null,
      "outputs": []
    }
  ],
  "metadata": {
    "accelerator": "GPU",
    "colab": {
      "provenance": [],
      "include_colab_link": true
    },
    "kernelspec": {
      "display_name": "Python 3",
      "name": "python3"
    },
    "language_info": {
      "name": "python"
    }
  },
  "nbformat": 4,
  "nbformat_minor": 5
}